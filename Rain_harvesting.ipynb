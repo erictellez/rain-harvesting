{
 "cells": [
  {
   "cell_type": "markdown",
   "metadata": {},
   "source": [
    "# Rain Harvesting in Mexico City"
   ]
  },
  {
   "cell_type": "markdown",
   "metadata": {},
   "source": [
    "### This notebook is for the Capstone Project of IBM Data Science Certificate in Coursera"
   ]
  },
  {
   "cell_type": "markdown",
   "metadata": {},
   "source": [
    "#### The introduction of the problem is written here: https://github.com/erictellez/IBM-data-science-capstone-project"
   ]
  },
  {
   "cell_type": "markdown",
   "metadata": {},
   "source": [
    "First we need to download the database or to access it trough an URL."
   ]
  },
  {
   "cell_type": "markdown",
   "metadata": {},
   "source": [
    "After that we need to clean the database."
   ]
  },
  {
   "cell_type": "markdown",
   "metadata": {},
   "source": [
    "### 0. Import libraries and update conda "
   ]
  },
  {
   "cell_type": "code",
   "execution_count": 4,
   "metadata": {},
   "outputs": [],
   "source": [
    "import pandas as pd # library for data analsysis\n",
    "pd.set_option('display.max_columns', None)\n",
    "pd.set_option('display.max_rows', None)"
   ]
  },
  {
   "cell_type": "code",
   "execution_count": 5,
   "metadata": {},
   "outputs": [],
   "source": [
    "%%capture\n",
    "! pip install seaborn"
   ]
  },
  {
   "cell_type": "code",
   "execution_count": 9,
   "metadata": {
    "collapsed": false,
    "jupyter": {
     "outputs_hidden": false
    }
   },
   "outputs": [
    {
     "name": "stderr",
     "output_type": "stream",
     "text": [
      "\n",
      "CondaValueError: invalid package specification: #\n",
      "\n",
      "usage: conda-script.py [-h] [-V] command ...\n",
      "conda-script.py: error: unrecognized arguments: # uncomment this line if you haven't completed the Foursquare API lab\n"
     ]
    },
    {
     "name": "stdout",
     "output_type": "stream",
     "text": [
      "Libraries imported.\n",
      "Folium imported.\n"
     ]
    },
    {
     "name": "stderr",
     "output_type": "stream",
     "text": [
      "usage: conda-script.py [-h] [-V] command ...\n",
      "conda-script.py: error: unrecognized arguments: # uncomment this line if you haven't completed the Foursquare API lab\n"
     ]
    }
   ],
   "source": [
    "import numpy as np # library to handle data in a vectorized manner\n",
    "import json # library to handle JSON files\n",
    "import seaborn as sns\n",
    "import matplotlib\n",
    "import datetime\n",
    "\n",
    "#!conda update -n base -c defaults conda  # this line is to update conda but it seems is not working\n",
    "#!conda install -c conda-forge geopy --yes # uncomment this line if you haven't completed the Foursquare API lab\n",
    "from geopy.geocoders import Nominatim # convert an address into latitude and longitude values\n",
    "\n",
    "import requests # library to handle requests\n",
    "from pandas.io.json import json_normalize # tranform JSON file into a pandas dataframe\n",
    "\n",
    "# Matplotlib and associated plotting modules\n",
    "import matplotlib.cm as cm\n",
    "import matplotlib.colors as colors\n",
    "\n",
    "# import k-means from clustering stage\n",
    "from sklearn.cluster import KMeans\n",
    "\n",
    "!conda install -c conda-forge folium=0.5.0 --yes # uncomment this line if you haven't completed the Foursquare API lab\n",
    "import folium # map rendering library\n",
    "\n",
    "print('Libraries imported.')\n",
    "print('Folium imported.')"
   ]
  },
  {
   "cell_type": "markdown",
   "metadata": {},
   "source": [
    "# 1. Download and explore the dataset"
   ]
  },
  {
   "cell_type": "markdown",
   "metadata": {},
   "source": [
    "The data is grouped by month so we need to concatenate all the archives."
   ]
  },
  {
   "cell_type": "code",
   "execution_count": 44,
   "metadata": {},
   "outputs": [
    {
     "data": {
      "text/html": [
       "<div>\n",
       "<style scoped>\n",
       "    .dataframe tbody tr th:only-of-type {\n",
       "        vertical-align: middle;\n",
       "    }\n",
       "\n",
       "    .dataframe tbody tr th {\n",
       "        vertical-align: top;\n",
       "    }\n",
       "\n",
       "    .dataframe thead th {\n",
       "        text-align: right;\n",
       "    }\n",
       "</style>\n",
       "<table border=\"1\" class=\"dataframe\">\n",
       "  <thead>\n",
       "    <tr style=\"text-align: right;\">\n",
       "      <th></th>\n",
       "      <th>Estación</th>\n",
       "      <th>Fecha/hora</th>\n",
       "      <th>Intensidad [mm/h]</th>\n",
       "      <th>Acumulada [mm]</th>\n",
       "      <th>Reflectividad [dB]</th>\n",
       "      <th>Visibilidad [m]</th>\n",
       "      <th>Número de gotas</th>\n",
       "      <th>Energía Cinética [KJ]</th>\n",
       "    </tr>\n",
       "  </thead>\n",
       "  <tbody>\n",
       "    <tr>\n",
       "      <th>0</th>\n",
       "      <td>LOSREYES</td>\n",
       "      <td>2019/01/30 17:20</td>\n",
       "      <td>0.0</td>\n",
       "      <td>12.62</td>\n",
       "      <td>-9.999</td>\n",
       "      <td>20000.0</td>\n",
       "      <td>0.0</td>\n",
       "      <td>0.0</td>\n",
       "    </tr>\n",
       "    <tr>\n",
       "      <th>1</th>\n",
       "      <td>LOSREYES</td>\n",
       "      <td>2019/01/30 17:21</td>\n",
       "      <td>0.0</td>\n",
       "      <td>12.62</td>\n",
       "      <td>-9.999</td>\n",
       "      <td>20000.0</td>\n",
       "      <td>0.0</td>\n",
       "      <td>0.0</td>\n",
       "    </tr>\n",
       "    <tr>\n",
       "      <th>2</th>\n",
       "      <td>LOSREYES</td>\n",
       "      <td>2019/01/30 17:22</td>\n",
       "      <td>0.0</td>\n",
       "      <td>12.62</td>\n",
       "      <td>-9.999</td>\n",
       "      <td>20000.0</td>\n",
       "      <td>0.0</td>\n",
       "      <td>NaN</td>\n",
       "    </tr>\n",
       "    <tr>\n",
       "      <th>3</th>\n",
       "      <td>LOSREYES</td>\n",
       "      <td>2019/01/30 17:23</td>\n",
       "      <td>0.0</td>\n",
       "      <td>12.62</td>\n",
       "      <td>-9.999</td>\n",
       "      <td>20000.0</td>\n",
       "      <td>0.0</td>\n",
       "      <td>0.0</td>\n",
       "    </tr>\n",
       "    <tr>\n",
       "      <th>4</th>\n",
       "      <td>LOSREYES</td>\n",
       "      <td>2019/01/30 17:24</td>\n",
       "      <td>0.0</td>\n",
       "      <td>12.62</td>\n",
       "      <td>-9.999</td>\n",
       "      <td>20000.0</td>\n",
       "      <td>0.0</td>\n",
       "      <td>0.0</td>\n",
       "    </tr>\n",
       "  </tbody>\n",
       "</table>\n",
       "</div>"
      ],
      "text/plain": [
       "   Estación        Fecha/hora  Intensidad [mm/h]  Acumulada [mm]  \\\n",
       "0  LOSREYES  2019/01/30 17:20                0.0           12.62   \n",
       "1  LOSREYES  2019/01/30 17:21                0.0           12.62   \n",
       "2  LOSREYES  2019/01/30 17:22                0.0           12.62   \n",
       "3  LOSREYES  2019/01/30 17:23                0.0           12.62   \n",
       "4  LOSREYES  2019/01/30 17:24                0.0           12.62   \n",
       "\n",
       "   Reflectividad [dB]  Visibilidad [m]  Número de gotas  Energía Cinética [KJ]  \n",
       "0              -9.999          20000.0              0.0                    0.0  \n",
       "1              -9.999          20000.0              0.0                    0.0  \n",
       "2              -9.999          20000.0              0.0                    NaN  \n",
       "3              -9.999          20000.0              0.0                    0.0  \n",
       "4              -9.999          20000.0              0.0                    0.0  "
      ]
     },
     "execution_count": 44,
     "metadata": {},
     "output_type": "execute_result"
    }
   ],
   "source": [
    "df1 = pd.read_csv('Datos_LOSREYES_Inten_201901.csv')\n",
    "df2 = pd.read_csv('Datos_LOSREYES_Inten_201902.csv')\n",
    "df3 = pd.read_csv('Datos_LOSREYES_Inten_201903.csv')\n",
    "df4 = pd.read_csv('Datos_LOSREYES_Inten_201904.csv')\n",
    "df5 = pd.read_csv('Datos_LOSREYES_Inten_201905.csv')\n",
    "df6 = pd.read_csv('Datos_LOSREYES_Inten_201906.csv')\n",
    "df7 = pd.read_csv('Datos_LOSREYES_Inten_201907.csv')\n",
    "df8 = pd.read_csv('Datos_LOSREYES_Inten_201908.csv')\n",
    "df9 = pd.read_csv('Datos_LOSREYES_Inten_201909.csv')\n",
    "df10 = pd.read_csv('Datos_LOSREYES_Inten_201910.csv')\n",
    "df11 = pd.read_csv('Datos_LOSREYES_Inten_201911.csv')\n",
    "df12 = pd.read_csv('Datos_LOSREYES_Inten_201912.csv')\n",
    "\n",
    "\n",
    "frames = [df1,df2,df3,df4,df5,df6,df7,df8,df9,df10,df11,df12]\n",
    "\n",
    "df = pd.concat(frames)\n",
    "\n",
    "df.head()"
   ]
  },
  {
   "cell_type": "code",
   "execution_count": 31,
   "metadata": {},
   "outputs": [],
   "source": [
    "#The database is not clean enough. The first n rows in column Acumulada have a number that is not zero and it should be. \n",
    "#Fortunaletely there is no other 122.60 number in the database, so its easey just to replace this number.\n",
    "# I need a piece of code to clean this values.\n",
    "#dacmex['Acumulada [mm]'].replace(to_replace=[122.60], value=[0.0],inplace=True)\n",
    "#df.head()"
   ]
  },
  {
   "cell_type": "markdown",
   "metadata": {},
   "source": [
    "### 1.1 Convert to date time object "
   ]
  },
  {
   "cell_type": "code",
   "execution_count": 45,
   "metadata": {},
   "outputs": [
    {
     "data": {
      "text/html": [
       "<div>\n",
       "<style scoped>\n",
       "    .dataframe tbody tr th:only-of-type {\n",
       "        vertical-align: middle;\n",
       "    }\n",
       "\n",
       "    .dataframe tbody tr th {\n",
       "        vertical-align: top;\n",
       "    }\n",
       "\n",
       "    .dataframe thead th {\n",
       "        text-align: right;\n",
       "    }\n",
       "</style>\n",
       "<table border=\"1\" class=\"dataframe\">\n",
       "  <thead>\n",
       "    <tr style=\"text-align: right;\">\n",
       "      <th></th>\n",
       "      <th>Estación</th>\n",
       "      <th>Fecha/hora</th>\n",
       "      <th>Intensidad [mm/h]</th>\n",
       "      <th>Acumulada [mm]</th>\n",
       "      <th>Reflectividad [dB]</th>\n",
       "      <th>Visibilidad [m]</th>\n",
       "      <th>Número de gotas</th>\n",
       "      <th>Energía Cinética [KJ]</th>\n",
       "    </tr>\n",
       "  </thead>\n",
       "  <tbody>\n",
       "    <tr>\n",
       "      <th>0</th>\n",
       "      <td>LOSREYES</td>\n",
       "      <td>2019-01-30 17:20:00</td>\n",
       "      <td>0.0</td>\n",
       "      <td>12.62</td>\n",
       "      <td>-9.999</td>\n",
       "      <td>20000.0</td>\n",
       "      <td>0.0</td>\n",
       "      <td>0.0</td>\n",
       "    </tr>\n",
       "    <tr>\n",
       "      <th>1</th>\n",
       "      <td>LOSREYES</td>\n",
       "      <td>2019-01-30 17:21:00</td>\n",
       "      <td>0.0</td>\n",
       "      <td>12.62</td>\n",
       "      <td>-9.999</td>\n",
       "      <td>20000.0</td>\n",
       "      <td>0.0</td>\n",
       "      <td>0.0</td>\n",
       "    </tr>\n",
       "    <tr>\n",
       "      <th>2</th>\n",
       "      <td>LOSREYES</td>\n",
       "      <td>2019-01-30 17:22:00</td>\n",
       "      <td>0.0</td>\n",
       "      <td>12.62</td>\n",
       "      <td>-9.999</td>\n",
       "      <td>20000.0</td>\n",
       "      <td>0.0</td>\n",
       "      <td>NaN</td>\n",
       "    </tr>\n",
       "    <tr>\n",
       "      <th>3</th>\n",
       "      <td>LOSREYES</td>\n",
       "      <td>2019-01-30 17:23:00</td>\n",
       "      <td>0.0</td>\n",
       "      <td>12.62</td>\n",
       "      <td>-9.999</td>\n",
       "      <td>20000.0</td>\n",
       "      <td>0.0</td>\n",
       "      <td>0.0</td>\n",
       "    </tr>\n",
       "    <tr>\n",
       "      <th>4</th>\n",
       "      <td>LOSREYES</td>\n",
       "      <td>2019-01-30 17:24:00</td>\n",
       "      <td>0.0</td>\n",
       "      <td>12.62</td>\n",
       "      <td>-9.999</td>\n",
       "      <td>20000.0</td>\n",
       "      <td>0.0</td>\n",
       "      <td>0.0</td>\n",
       "    </tr>\n",
       "  </tbody>\n",
       "</table>\n",
       "</div>"
      ],
      "text/plain": [
       "   Estación          Fecha/hora  Intensidad [mm/h]  Acumulada [mm]  \\\n",
       "0  LOSREYES 2019-01-30 17:20:00                0.0           12.62   \n",
       "1  LOSREYES 2019-01-30 17:21:00                0.0           12.62   \n",
       "2  LOSREYES 2019-01-30 17:22:00                0.0           12.62   \n",
       "3  LOSREYES 2019-01-30 17:23:00                0.0           12.62   \n",
       "4  LOSREYES 2019-01-30 17:24:00                0.0           12.62   \n",
       "\n",
       "   Reflectividad [dB]  Visibilidad [m]  Número de gotas  Energía Cinética [KJ]  \n",
       "0              -9.999          20000.0              0.0                    0.0  \n",
       "1              -9.999          20000.0              0.0                    0.0  \n",
       "2              -9.999          20000.0              0.0                    NaN  \n",
       "3              -9.999          20000.0              0.0                    0.0  \n",
       "4              -9.999          20000.0              0.0                    0.0  "
      ]
     },
     "execution_count": 45,
     "metadata": {},
     "output_type": "execute_result"
    }
   ],
   "source": [
    "df['Fecha/hora'] = pd.to_datetime(df['Fecha/hora'])\n",
    "df.head()"
   ]
  },
  {
   "cell_type": "code",
   "execution_count": 46,
   "metadata": {},
   "outputs": [
    {
     "data": {
      "text/html": [
       "<div>\n",
       "<style scoped>\n",
       "    .dataframe tbody tr th:only-of-type {\n",
       "        vertical-align: middle;\n",
       "    }\n",
       "\n",
       "    .dataframe tbody tr th {\n",
       "        vertical-align: top;\n",
       "    }\n",
       "\n",
       "    .dataframe thead th {\n",
       "        text-align: right;\n",
       "    }\n",
       "</style>\n",
       "<table border=\"1\" class=\"dataframe\">\n",
       "  <thead>\n",
       "    <tr style=\"text-align: right;\">\n",
       "      <th></th>\n",
       "      <th>Estación</th>\n",
       "      <th>Fecha/hora</th>\n",
       "      <th>Intensidad [mm/h]</th>\n",
       "      <th>Acumulada [mm]</th>\n",
       "      <th>Reflectividad [dB]</th>\n",
       "      <th>Visibilidad [m]</th>\n",
       "      <th>Número de gotas</th>\n",
       "      <th>Energía Cinética [KJ]</th>\n",
       "    </tr>\n",
       "  </thead>\n",
       "  <tbody>\n",
       "    <tr>\n",
       "      <th>42529</th>\n",
       "      <td>LOSREYES</td>\n",
       "      <td>2019-12-31 23:47:00</td>\n",
       "      <td>0.0</td>\n",
       "      <td>0.16</td>\n",
       "      <td>-9.999</td>\n",
       "      <td>20000.0</td>\n",
       "      <td>0.0</td>\n",
       "      <td>0.0</td>\n",
       "    </tr>\n",
       "    <tr>\n",
       "      <th>42530</th>\n",
       "      <td>LOSREYES</td>\n",
       "      <td>2019-12-31 23:48:00</td>\n",
       "      <td>0.0</td>\n",
       "      <td>0.16</td>\n",
       "      <td>-9.999</td>\n",
       "      <td>20000.0</td>\n",
       "      <td>0.0</td>\n",
       "      <td>0.0</td>\n",
       "    </tr>\n",
       "    <tr>\n",
       "      <th>42531</th>\n",
       "      <td>LOSREYES</td>\n",
       "      <td>2019-12-31 23:49:00</td>\n",
       "      <td>0.0</td>\n",
       "      <td>0.16</td>\n",
       "      <td>-9.999</td>\n",
       "      <td>20000.0</td>\n",
       "      <td>0.0</td>\n",
       "      <td>0.0</td>\n",
       "    </tr>\n",
       "    <tr>\n",
       "      <th>42532</th>\n",
       "      <td>LOSREYES</td>\n",
       "      <td>2019-12-31 23:50:00</td>\n",
       "      <td>0.0</td>\n",
       "      <td>0.16</td>\n",
       "      <td>-9.999</td>\n",
       "      <td>20000.0</td>\n",
       "      <td>0.0</td>\n",
       "      <td>0.0</td>\n",
       "    </tr>\n",
       "    <tr>\n",
       "      <th>42533</th>\n",
       "      <td>LOSREYES</td>\n",
       "      <td>2019-12-31 23:51:00</td>\n",
       "      <td>0.0</td>\n",
       "      <td>0.16</td>\n",
       "      <td>-9.999</td>\n",
       "      <td>20000.0</td>\n",
       "      <td>0.0</td>\n",
       "      <td>0.0</td>\n",
       "    </tr>\n",
       "  </tbody>\n",
       "</table>\n",
       "</div>"
      ],
      "text/plain": [
       "       Estación          Fecha/hora  Intensidad [mm/h]  Acumulada [mm]  \\\n",
       "42529  LOSREYES 2019-12-31 23:47:00                0.0            0.16   \n",
       "42530  LOSREYES 2019-12-31 23:48:00                0.0            0.16   \n",
       "42531  LOSREYES 2019-12-31 23:49:00                0.0            0.16   \n",
       "42532  LOSREYES 2019-12-31 23:50:00                0.0            0.16   \n",
       "42533  LOSREYES 2019-12-31 23:51:00                0.0            0.16   \n",
       "\n",
       "       Reflectividad [dB]  Visibilidad [m]  Número de gotas  \\\n",
       "42529              -9.999          20000.0              0.0   \n",
       "42530              -9.999          20000.0              0.0   \n",
       "42531              -9.999          20000.0              0.0   \n",
       "42532              -9.999          20000.0              0.0   \n",
       "42533              -9.999          20000.0              0.0   \n",
       "\n",
       "       Energía Cinética [KJ]  \n",
       "42529                    0.0  \n",
       "42530                    0.0  \n",
       "42531                    0.0  \n",
       "42532                    0.0  \n",
       "42533                    0.0  "
      ]
     },
     "execution_count": 46,
     "metadata": {},
     "output_type": "execute_result"
    }
   ],
   "source": [
    "df.tail()"
   ]
  },
  {
   "cell_type": "markdown",
   "metadata": {},
   "source": [
    "Convert the actual datetime to other time, because I think it would be better to measure from 7am to 7am. During the night the rain could pour while sleeping."
   ]
  },
  {
   "cell_type": "code",
   "execution_count": 47,
   "metadata": {},
   "outputs": [
    {
     "data": {
      "text/html": [
       "<div>\n",
       "<style scoped>\n",
       "    .dataframe tbody tr th:only-of-type {\n",
       "        vertical-align: middle;\n",
       "    }\n",
       "\n",
       "    .dataframe tbody tr th {\n",
       "        vertical-align: top;\n",
       "    }\n",
       "\n",
       "    .dataframe thead th {\n",
       "        text-align: right;\n",
       "    }\n",
       "</style>\n",
       "<table border=\"1\" class=\"dataframe\">\n",
       "  <thead>\n",
       "    <tr style=\"text-align: right;\">\n",
       "      <th></th>\n",
       "      <th>Estación</th>\n",
       "      <th>Fecha/hora</th>\n",
       "      <th>Intensidad [mm/h]</th>\n",
       "      <th>Acumulada [mm]</th>\n",
       "      <th>Reflectividad [dB]</th>\n",
       "      <th>Visibilidad [m]</th>\n",
       "      <th>Número de gotas</th>\n",
       "      <th>Energía Cinética [KJ]</th>\n",
       "    </tr>\n",
       "  </thead>\n",
       "  <tbody>\n",
       "    <tr>\n",
       "      <th>0</th>\n",
       "      <td>LOSREYES</td>\n",
       "      <td>2019-01-30 10:20:00</td>\n",
       "      <td>0.0</td>\n",
       "      <td>12.62</td>\n",
       "      <td>-9.999</td>\n",
       "      <td>20000.0</td>\n",
       "      <td>0.0</td>\n",
       "      <td>0.0</td>\n",
       "    </tr>\n",
       "    <tr>\n",
       "      <th>1</th>\n",
       "      <td>LOSREYES</td>\n",
       "      <td>2019-01-30 10:21:00</td>\n",
       "      <td>0.0</td>\n",
       "      <td>12.62</td>\n",
       "      <td>-9.999</td>\n",
       "      <td>20000.0</td>\n",
       "      <td>0.0</td>\n",
       "      <td>0.0</td>\n",
       "    </tr>\n",
       "    <tr>\n",
       "      <th>2</th>\n",
       "      <td>LOSREYES</td>\n",
       "      <td>2019-01-30 10:22:00</td>\n",
       "      <td>0.0</td>\n",
       "      <td>12.62</td>\n",
       "      <td>-9.999</td>\n",
       "      <td>20000.0</td>\n",
       "      <td>0.0</td>\n",
       "      <td>NaN</td>\n",
       "    </tr>\n",
       "    <tr>\n",
       "      <th>3</th>\n",
       "      <td>LOSREYES</td>\n",
       "      <td>2019-01-30 10:23:00</td>\n",
       "      <td>0.0</td>\n",
       "      <td>12.62</td>\n",
       "      <td>-9.999</td>\n",
       "      <td>20000.0</td>\n",
       "      <td>0.0</td>\n",
       "      <td>0.0</td>\n",
       "    </tr>\n",
       "    <tr>\n",
       "      <th>4</th>\n",
       "      <td>LOSREYES</td>\n",
       "      <td>2019-01-30 10:24:00</td>\n",
       "      <td>0.0</td>\n",
       "      <td>12.62</td>\n",
       "      <td>-9.999</td>\n",
       "      <td>20000.0</td>\n",
       "      <td>0.0</td>\n",
       "      <td>0.0</td>\n",
       "    </tr>\n",
       "  </tbody>\n",
       "</table>\n",
       "</div>"
      ],
      "text/plain": [
       "   Estación          Fecha/hora  Intensidad [mm/h]  Acumulada [mm]  \\\n",
       "0  LOSREYES 2019-01-30 10:20:00                0.0           12.62   \n",
       "1  LOSREYES 2019-01-30 10:21:00                0.0           12.62   \n",
       "2  LOSREYES 2019-01-30 10:22:00                0.0           12.62   \n",
       "3  LOSREYES 2019-01-30 10:23:00                0.0           12.62   \n",
       "4  LOSREYES 2019-01-30 10:24:00                0.0           12.62   \n",
       "\n",
       "   Reflectividad [dB]  Visibilidad [m]  Número de gotas  Energía Cinética [KJ]  \n",
       "0              -9.999          20000.0              0.0                    0.0  \n",
       "1              -9.999          20000.0              0.0                    0.0  \n",
       "2              -9.999          20000.0              0.0                    NaN  \n",
       "3              -9.999          20000.0              0.0                    0.0  \n",
       "4              -9.999          20000.0              0.0                    0.0  "
      ]
     },
     "execution_count": 47,
     "metadata": {},
     "output_type": "execute_result"
    }
   ],
   "source": [
    "df['Fecha/hora'] = df['Fecha/hora'] - datetime.timedelta(hours=7)\n",
    "df.head()"
   ]
  },
  {
   "cell_type": "code",
   "execution_count": 48,
   "metadata": {},
   "outputs": [
    {
     "data": {
      "text/plain": [
       "Estación                         object\n",
       "Fecha/hora               datetime64[ns]\n",
       "Intensidad [mm/h]               float64\n",
       "Acumulada [mm]                  float64\n",
       "Reflectividad [dB]              float64\n",
       "Visibilidad [m]                 float64\n",
       "Número de gotas                 float64\n",
       "Energía Cinética [KJ]           float64\n",
       "dtype: object"
      ]
     },
     "execution_count": 48,
     "metadata": {},
     "output_type": "execute_result"
    }
   ],
   "source": [
    "df.dtypes"
   ]
  },
  {
   "cell_type": "markdown",
   "metadata": {},
   "source": [
    "From here we can see that each measurement is made every minute of the month and we need the amount of rain every day. \n",
    "It would be the best form of processing."
   ]
  },
  {
   "cell_type": "markdown",
   "metadata": {},
   "source": [
    "We need to sum all the measurementes of each minute in one day in order to plot the amount of water per day.\n",
    "Since the measurement of intensity is in units of mm/h, we need to divide by 60 to get the proper sum of total rain each day in mm."
   ]
  },
  {
   "cell_type": "code",
   "execution_count": 49,
   "metadata": {},
   "outputs": [],
   "source": [
    "Acumuladapordia=df['Intensidad [mm/h]'].groupby(df['Fecha/hora'].dt.to_period('D')).sum() #to change the frecuency in to_period('W') you need to change the letter W meaning weak for D days\n",
    "APD=Acumuladapordia/60;\n",
    "#df['Intensidad [mm/h]'].groupby(df['Fecha/hora'].dt.to_period('D')).sum().plot(kind='bar')"
   ]
  },
  {
   "cell_type": "code",
   "execution_count": 50,
   "metadata": {},
   "outputs": [
    {
     "data": {
      "text/plain": [
       "<matplotlib.axes._subplots.AxesSubplot at 0x6a526f108>"
      ]
     },
     "execution_count": 50,
     "metadata": {},
     "output_type": "execute_result"
    },
    {
     "data": {
      "image/png": "[encoded data removed]",
      "text/plain": [
       "<Figure size 1440x720 with 1 Axes>"
      ]
     },
     "metadata": {
      "needs_background": "light"
     },
     "output_type": "display_data"
    }
   ],
   "source": [
    "roofarea=16;\n",
    "litros=APD/1000*1000*(roofarea)\n",
    "litros.plot(kind='bar',figsize=(20,10)) #It seems that the graph is not good enough. I need to plot it better."
   ]
  },
  {
   "cell_type": "code",
   "execution_count": 57,
   "metadata": {},
   "outputs": [
    {
     "name": "stdout",
     "output_type": "stream",
     "text": [
      "Fecha/hora\n",
      "2019-01-30      0.000000\n",
      "2019-01-31      0.000000\n",
      "2019-02-01      0.000000\n",
      "2019-02-02      0.000000\n",
      "2019-02-03      0.000000\n",
      "2019-02-04      0.000000\n",
      "2019-02-05      0.000000\n",
      "2019-02-06      0.000000\n",
      "2019-02-07      0.000000\n",
      "2019-02-08      0.000000\n",
      "2019-02-09      0.000000\n",
      "2019-02-10      0.000000\n",
      "2019-02-12      0.000000\n",
      "2019-02-13      0.000000\n",
      "2019-02-14      0.000000\n",
      "2019-02-15      0.000000\n",
      "2019-02-16      0.000000\n",
      "2019-02-17      0.000000\n",
      "2019-02-18      0.000000\n",
      "2019-02-19      0.000000\n",
      "2019-02-20      0.000000\n",
      "2019-03-08      0.000000\n",
      "2019-03-09      0.000000\n",
      "2019-03-10      0.000000\n",
      "2019-03-11      0.000000\n",
      "2019-03-12      0.000000\n",
      "2019-03-13      0.000000\n",
      "2019-03-14      0.000000\n",
      "2019-03-15      0.000000\n",
      "2019-03-16      0.000000\n",
      "2019-03-31      0.000000\n",
      "2019-04-01      0.000000\n",
      "2019-04-02      0.000000\n",
      "2019-04-03      0.000000\n",
      "2019-04-04      0.000000\n",
      "2019-04-05     39.782133\n",
      "2019-04-06     14.295467\n",
      "2019-04-07      0.000000\n",
      "2019-04-08      4.544800\n",
      "2019-04-09      0.126133\n",
      "2019-04-10      0.000000\n",
      "2019-04-11      0.000000\n",
      "2019-04-12      0.000000\n",
      "2019-04-13      0.004800\n",
      "2019-04-14      0.000000\n",
      "2019-04-15      0.000000\n",
      "2019-04-16      0.000000\n",
      "2019-04-17      0.000000\n",
      "2019-04-18      0.000000\n",
      "2019-04-19      0.000000\n",
      "2019-04-20      0.000000\n",
      "2019-04-21      0.427733\n",
      "2019-04-22     56.265600\n",
      "2019-04-23      0.000000\n",
      "2019-04-24      0.000000\n",
      "2019-04-25      0.052800\n",
      "2019-04-26      0.157867\n",
      "2019-04-27      0.000000\n",
      "2019-04-28      0.022133\n",
      "2019-04-29     14.006667\n",
      "2019-04-30    141.160533\n",
      "2019-05-01      0.169067\n",
      "2019-05-02      3.070133\n",
      "2019-05-03      0.182933\n",
      "2019-05-04      0.026400\n",
      "2019-05-05     35.318400\n",
      "2019-05-06      2.599733\n",
      "2019-05-07      0.000000\n",
      "2019-05-08      0.000000\n",
      "2019-05-09      0.000000\n",
      "2019-05-10      0.005067\n",
      "2019-05-11      0.000000\n",
      "2019-05-12      0.000000\n",
      "2019-05-13      0.000000\n",
      "2019-05-14      0.008533\n",
      "2019-05-15     15.464000\n",
      "2019-05-16     14.720267\n",
      "2019-05-17      0.114400\n",
      "2019-05-18      3.466667\n",
      "2019-05-19      0.000000\n",
      "2019-05-20      0.000000\n",
      "2019-05-21     47.437333\n",
      "2019-05-22      0.000000\n",
      "2019-05-23    157.540533\n",
      "2019-05-24      0.000000\n",
      "2019-05-25      6.205867\n",
      "2019-05-26      1.189333\n",
      "2019-05-27      0.000000\n",
      "2019-05-28      0.000000\n",
      "2019-05-29      0.000000\n",
      "2019-05-30      2.784267\n",
      "2019-05-31      0.000000\n",
      "2019-06-01      9.702400\n",
      "2019-06-02      0.362400\n",
      "2019-06-03      0.520267\n",
      "2019-06-04    342.557067\n",
      "2019-06-05    263.420000\n",
      "2019-06-06    602.244267\n",
      "2019-06-07     64.770400\n",
      "2019-06-08      0.003467\n",
      "2019-06-09      0.000000\n",
      "2019-06-10      0.000000\n",
      "2019-06-11      0.083200\n",
      "2019-06-12      0.280267\n",
      "2019-06-13     93.390400\n",
      "2019-06-14      0.000000\n",
      "2019-06-15     54.163200\n",
      "2019-06-16      0.746933\n",
      "2019-06-17      0.000000\n",
      "2019-06-18      4.432000\n",
      "2019-06-19    129.752800\n",
      "2019-06-20    129.032800\n",
      "2019-06-21      2.766400\n",
      "2019-06-22      0.377067\n",
      "2019-06-23    104.552267\n",
      "2019-06-24    124.644800\n",
      "2019-06-25      0.909600\n",
      "2019-06-26     24.432267\n",
      "2019-06-27      5.065867\n",
      "2019-06-28      6.936533\n",
      "2019-06-29      0.000000\n",
      "2019-06-30    267.990667\n",
      "2019-07-01      0.000000\n",
      "2019-07-02    280.940800\n",
      "2019-07-03      3.305867\n",
      "2019-07-04    120.574933\n",
      "2019-07-05      0.004267\n",
      "2019-07-06     66.427467\n",
      "2019-07-07      0.000000\n",
      "2019-07-08     72.461600\n",
      "2019-07-09    192.034933\n",
      "2019-07-10    332.830133\n",
      "2019-07-11    112.269600\n",
      "2019-07-12    230.768533\n",
      "2019-07-13     67.956000\n",
      "2019-07-14    105.042933\n",
      "2019-07-15      0.642933\n",
      "2019-07-16    141.828533\n",
      "2019-07-17      0.224267\n",
      "2019-07-18    147.800267\n",
      "2019-07-19      0.264000\n",
      "2019-07-20      0.000000\n",
      "2019-07-21      2.850667\n",
      "2019-07-22      0.000000\n",
      "2019-07-23     39.954933\n",
      "2019-07-24      7.058133\n",
      "2019-07-25    162.528267\n",
      "2019-07-26    220.330133\n",
      "2019-07-27     76.701600\n",
      "2019-07-28      6.592533\n",
      "2019-07-29    350.437867\n",
      "2019-07-30     14.291733\n",
      "2019-07-31    187.416000\n",
      "2019-08-01      0.352800\n",
      "2019-08-02      0.632800\n",
      "2019-08-03      0.517867\n",
      "2019-08-04      3.751467\n",
      "2019-08-05    248.233600\n",
      "2019-08-06    362.544267\n",
      "2019-08-07    211.211733\n",
      "2019-08-08      2.482133\n",
      "2019-08-09     12.612267\n",
      "2019-08-10     53.079467\n",
      "2019-08-11     45.812533\n",
      "2019-08-12     49.070667\n",
      "2019-08-13     42.386133\n",
      "2019-08-14     12.197867\n",
      "2019-08-15     24.385333\n",
      "2019-08-16      0.071733\n",
      "2019-08-17      8.135733\n",
      "2019-08-18    182.261867\n",
      "2019-08-19      0.010667\n",
      "2019-08-20      0.000000\n",
      "2019-08-21      0.005600\n",
      "2019-08-22      0.000000\n",
      "2019-08-23     98.438400\n",
      "2019-08-24      0.000000\n",
      "2019-08-25      0.021333\n",
      "2019-08-26     27.863733\n",
      "2019-08-27      0.000000\n",
      "2019-08-28      0.007733\n",
      "2019-08-29      0.000000\n",
      "2019-08-30     10.053067\n",
      "2019-08-31      0.000000\n",
      "2019-09-01      0.021067\n",
      "2019-09-02      0.000000\n",
      "2019-09-03      0.018133\n",
      "2019-09-04      2.542133\n",
      "2019-09-05     26.786667\n",
      "2019-09-06      0.000000\n",
      "2019-09-07      4.267200\n",
      "2019-09-08      1.065867\n",
      "2019-09-09     62.435733\n",
      "2019-09-10    320.235200\n",
      "2019-09-11      4.606133\n",
      "2019-09-12    101.739467\n",
      "2019-09-13      3.009067\n",
      "2019-09-14      0.684000\n",
      "2019-09-15      5.328000\n",
      "2019-09-16     19.101867\n",
      "2019-09-17      0.050933\n",
      "2019-09-18     83.953333\n",
      "2019-09-19      2.484800\n",
      "2019-09-20    190.941333\n",
      "2019-09-21      1.462133\n",
      "2019-09-22      0.000000\n",
      "2019-09-23     61.621067\n",
      "2019-09-24      7.841600\n",
      "2019-09-25     81.220800\n",
      "2019-09-26      3.186933\n",
      "2019-09-27      0.033067\n",
      "2019-09-28     23.246133\n",
      "2019-09-29     39.166133\n",
      "2019-09-30     66.455467\n",
      "2019-10-01     71.574667\n",
      "2019-10-02     47.324533\n",
      "2019-10-03     33.003733\n",
      "2019-10-04     34.709067\n",
      "2019-10-05      0.000000\n",
      "2019-10-06      0.000000\n",
      "2019-10-07      2.009867\n",
      "2019-10-08      0.000000\n",
      "2019-10-09      1.820533\n",
      "2019-10-10      0.000000\n",
      "2019-10-11     17.926133\n",
      "2019-10-12      0.000000\n",
      "2019-10-13      0.000000\n",
      "2019-10-14      0.000000\n",
      "2019-10-15      0.498667\n",
      "2019-10-16    106.498933\n",
      "2019-10-17     40.927467\n",
      "2019-10-18      0.006933\n",
      "2019-10-19      4.168267\n",
      "2019-10-20      0.000000\n",
      "2019-10-21      0.000000\n",
      "2019-10-22     28.198133\n",
      "2019-10-23      1.305333\n",
      "2019-10-24      0.096800\n",
      "2019-10-25      0.000000\n",
      "2019-10-27      0.000000\n",
      "2019-10-28      0.440267\n",
      "2019-10-29      0.000000\n",
      "2019-10-30    136.388267\n",
      "2019-10-31      1.017067\n",
      "2019-11-01      0.000000\n",
      "2019-11-02     13.240267\n",
      "2019-11-03    136.488800\n",
      "2019-11-04      0.000000\n",
      "2019-11-05     27.679733\n",
      "2019-11-06      0.215733\n",
      "2019-11-07      0.000000\n",
      "2019-11-08      0.017067\n",
      "2019-11-09      0.008000\n",
      "2019-11-10      0.000000\n",
      "2019-11-11      0.007733\n",
      "2019-11-12      0.000000\n",
      "2019-11-13      0.000000\n",
      "2019-11-14      0.166667\n",
      "2019-11-15     10.330400\n",
      "2019-11-16      1.174667\n",
      "2019-11-17      0.000000\n",
      "2019-11-18    111.750133\n",
      "2019-11-19      0.026133\n",
      "2019-11-20      0.000000\n",
      "2019-11-21      0.000000\n",
      "2019-11-22      0.000000\n",
      "2019-11-23      0.000000\n",
      "2019-11-24      0.000000\n",
      "2019-11-25      0.000000\n",
      "2019-11-26      0.000000\n",
      "2019-11-27      0.000000\n",
      "2019-11-28      0.000000\n",
      "2019-11-29      0.000000\n",
      "2019-11-30      0.000000\n",
      "2019-12-01      0.000000\n",
      "2019-12-02      0.000000\n",
      "2019-12-03      0.000000\n",
      "2019-12-04      0.000000\n",
      "2019-12-05      0.000000\n",
      "2019-12-06      0.000000\n",
      "2019-12-07      0.000000\n",
      "2019-12-08      0.000000\n",
      "2019-12-09      0.000000\n",
      "2019-12-10      0.000000\n",
      "2019-12-11      0.000000\n",
      "2019-12-12      0.000000\n",
      "2019-12-13      0.000000\n",
      "2019-12-14      0.000000\n",
      "2019-12-15      0.000000\n",
      "2019-12-16      0.000000\n",
      "2019-12-17      0.000000\n",
      "2019-12-18      0.000000\n",
      "2019-12-19      0.000000\n",
      "2019-12-20      0.015733\n",
      "2019-12-21      2.098133\n",
      "2019-12-22      0.247200\n",
      "2019-12-23      0.000000\n",
      "2019-12-24      0.000000\n",
      "2019-12-25      0.007467\n",
      "2019-12-26      0.000000\n",
      "2019-12-27      0.000000\n",
      "2019-12-28      0.205067\n",
      "2019-12-29      0.045333\n",
      "2019-12-30      0.000000\n",
      "2019-12-31      0.000000\n",
      "Freq: D, Name: Intensidad [mm/h], dtype: float64\n",
      "Litros totales= 9079.109866666666\n",
      "Promedio anual= 174.59826666666666\n",
      "Promedio semestral 26 semanas (temporada de lluvias)= 349.1965333333333\n",
      "Days with more than 43 liters = 54\n"
     ]
    }
   ],
   "source": [
    "#APD is the amount of rain each day and by multiplying that times the area of the ceiling we get the liters we can harvest of the rain\n",
    "print(litros) #The last number is the area of the ceiling\n",
    "print('Litros totales=',sum(litros))\n",
    "print('Promedio anual=',sum(litros)/52)\n",
    "print('Promedio semestral 26 semanas (temporada de lluvias)=',sum(litros)/26)\n",
    "\n",
    "k=43\n",
    "count = 0\n",
    "for i in litros : \n",
    "    if i > k : \n",
    "        count = count + 1\n",
    "\n",
    "print('Days with more than 43 liters =', count)"
   ]
  },
  {
   "cell_type": "markdown",
   "metadata": {},
   "source": [
    "<h2 id=\"discriptive_statistics\">2. Descriptive Statistical Analysis</h2>"
   ]
  },
  {
   "cell_type": "markdown",
   "metadata": {},
   "source": [
    "We need to calculate the water usage per person each day.\n",
    "We need to "
   ]
  },
  {
   "cell_type": "markdown",
   "metadata": {},
   "source": [
    "300 litros a la semana de Ana (4 o 5 personas en la casa)\n",
    "500 litros a la semana de Isa \n",
    "\n",
    "1\n",
    "Seguro\n",
    "Certeza de obtener el agua\n",
    "Adaptabilidad de insfraestructuras pequeñas\n",
    "Instalar y desistalar la solución\n",
    "Mecanismo para medir la cantidad de agua\n",
    "\n",
    "2 reuso\n",
    "\n",
    "3\n",
    "Modelo de provisiónd de agua segura: \n",
    "opción do it yourself\n",
    "\n",
    "Calculadora de Cántaro Azul: https://capitalsustentable.shinyapps.io/calculadora/"
   ]
  },
  {
   "cell_type": "code",
   "execution_count": 22,
   "metadata": {},
   "outputs": [
    {
     "data": {
      "text/html": [
       "<div>\n",
       "<style scoped>\n",
       "    .dataframe tbody tr th:only-of-type {\n",
       "        vertical-align: middle;\n",
       "    }\n",
       "\n",
       "    .dataframe tbody tr th {\n",
       "        vertical-align: top;\n",
       "    }\n",
       "\n",
       "    .dataframe thead th {\n",
       "        text-align: right;\n",
       "    }\n",
       "</style>\n",
       "<table border=\"1\" class=\"dataframe\">\n",
       "  <thead>\n",
       "    <tr style=\"text-align: right;\">\n",
       "      <th></th>\n",
       "      <th>Intensidad [mm/h]</th>\n",
       "      <th>Acumulada [mm]</th>\n",
       "      <th>Reflectividad [dB]</th>\n",
       "      <th>Visibilidad [m]</th>\n",
       "      <th>Número de gotas</th>\n",
       "      <th>Energía Cinética [KJ]</th>\n",
       "    </tr>\n",
       "  </thead>\n",
       "  <tbody>\n",
       "    <tr>\n",
       "      <th>count</th>\n",
       "      <td>44579.000000</td>\n",
       "      <td>44579.000000</td>\n",
       "      <td>44579.000000</td>\n",
       "      <td>44579.000000</td>\n",
       "      <td>44579.000000</td>\n",
       "      <td>44579.000000</td>\n",
       "    </tr>\n",
       "    <tr>\n",
       "      <th>mean</th>\n",
       "      <td>0.300296</td>\n",
       "      <td>93.001430</td>\n",
       "      <td>-7.078582</td>\n",
       "      <td>19469.552906</td>\n",
       "      <td>25.428363</td>\n",
       "      <td>7.827381</td>\n",
       "    </tr>\n",
       "    <tr>\n",
       "      <th>std</th>\n",
       "      <td>3.032025</td>\n",
       "      <td>67.487869</td>\n",
       "      <td>9.776780</td>\n",
       "      <td>2655.444161</td>\n",
       "      <td>135.031099</td>\n",
       "      <td>104.177086</td>\n",
       "    </tr>\n",
       "    <tr>\n",
       "      <th>min</th>\n",
       "      <td>0.000000</td>\n",
       "      <td>0.000000</td>\n",
       "      <td>-9.999000</td>\n",
       "      <td>199.000000</td>\n",
       "      <td>0.000000</td>\n",
       "      <td>0.000000</td>\n",
       "    </tr>\n",
       "    <tr>\n",
       "      <th>25%</th>\n",
       "      <td>0.000000</td>\n",
       "      <td>39.570000</td>\n",
       "      <td>-9.999000</td>\n",
       "      <td>20000.000000</td>\n",
       "      <td>0.000000</td>\n",
       "      <td>0.000000</td>\n",
       "    </tr>\n",
       "    <tr>\n",
       "      <th>50%</th>\n",
       "      <td>0.000000</td>\n",
       "      <td>78.580000</td>\n",
       "      <td>-9.999000</td>\n",
       "      <td>20000.000000</td>\n",
       "      <td>0.000000</td>\n",
       "      <td>0.000000</td>\n",
       "    </tr>\n",
       "    <tr>\n",
       "      <th>75%</th>\n",
       "      <td>0.000000</td>\n",
       "      <td>125.840000</td>\n",
       "      <td>-9.999000</td>\n",
       "      <td>20000.000000</td>\n",
       "      <td>0.000000</td>\n",
       "      <td>0.000000</td>\n",
       "    </tr>\n",
       "    <tr>\n",
       "      <th>max</th>\n",
       "      <td>151.377000</td>\n",
       "      <td>223.960000</td>\n",
       "      <td>61.101000</td>\n",
       "      <td>20000.000000</td>\n",
       "      <td>4351.000000</td>\n",
       "      <td>5678.430000</td>\n",
       "    </tr>\n",
       "  </tbody>\n",
       "</table>\n",
       "</div>"
      ],
      "text/plain": [
       "       Intensidad [mm/h]  Acumulada [mm]  Reflectividad [dB]  Visibilidad [m]  \\\n",
       "count       44579.000000    44579.000000        44579.000000     44579.000000   \n",
       "mean            0.300296       93.001430           -7.078582     19469.552906   \n",
       "std             3.032025       67.487869            9.776780      2655.444161   \n",
       "min             0.000000        0.000000           -9.999000       199.000000   \n",
       "25%             0.000000       39.570000           -9.999000     20000.000000   \n",
       "50%             0.000000       78.580000           -9.999000     20000.000000   \n",
       "75%             0.000000      125.840000           -9.999000     20000.000000   \n",
       "max           151.377000      223.960000           61.101000     20000.000000   \n",
       "\n",
       "       Número de gotas  Energía Cinética [KJ]  \n",
       "count     44579.000000           44579.000000  \n",
       "mean         25.428363               7.827381  \n",
       "std         135.031099             104.177086  \n",
       "min           0.000000               0.000000  \n",
       "25%           0.000000               0.000000  \n",
       "50%           0.000000               0.000000  \n",
       "75%           0.000000               0.000000  \n",
       "max        4351.000000            5678.430000  "
      ]
     },
     "execution_count": 22,
     "metadata": {},
     "output_type": "execute_result"
    }
   ],
   "source": [
    "df.describe()"
   ]
  },
  {
   "cell_type": "code",
   "execution_count": null,
   "metadata": {},
   "outputs": [],
   "source": []
  },
  {
   "cell_type": "code",
   "execution_count": 10,
   "metadata": {},
   "outputs": [
    {
     "data": {
      "text/html": [
       "<div>\n",
       "<style scoped>\n",
       "    .dataframe tbody tr th:only-of-type {\n",
       "        vertical-align: middle;\n",
       "    }\n",
       "\n",
       "    .dataframe tbody tr th {\n",
       "        vertical-align: top;\n",
       "    }\n",
       "\n",
       "    .dataframe thead th {\n",
       "        text-align: right;\n",
       "    }\n",
       "</style>\n",
       "<table border=\"1\" class=\"dataframe\">\n",
       "  <thead>\n",
       "    <tr style=\"text-align: right;\">\n",
       "      <th></th>\n",
       "      <th>Intensidad [mm/h]</th>\n",
       "      <th>Acumulada [mm]</th>\n",
       "      <th>Reflectividad [dB]</th>\n",
       "      <th>Visibilidad [m]</th>\n",
       "      <th>Número de gotas</th>\n",
       "      <th>Energía Cinética [KJ]</th>\n",
       "    </tr>\n",
       "  </thead>\n",
       "  <tbody>\n",
       "    <tr>\n",
       "      <th>Intensidad [mm/h]</th>\n",
       "      <td>1.000000</td>\n",
       "      <td>0.027909</td>\n",
       "      <td>0.505625</td>\n",
       "      <td>-0.575334</td>\n",
       "      <td>0.745237</td>\n",
       "      <td>0.976842</td>\n",
       "    </tr>\n",
       "    <tr>\n",
       "      <th>Acumulada [mm]</th>\n",
       "      <td>0.027909</td>\n",
       "      <td>1.000000</td>\n",
       "      <td>0.049916</td>\n",
       "      <td>-0.059188</td>\n",
       "      <td>0.058995</td>\n",
       "      <td>0.024055</td>\n",
       "    </tr>\n",
       "    <tr>\n",
       "      <th>Reflectividad [dB]</th>\n",
       "      <td>0.505625</td>\n",
       "      <td>0.049916</td>\n",
       "      <td>1.000000</td>\n",
       "      <td>-0.785852</td>\n",
       "      <td>0.725338</td>\n",
       "      <td>0.416762</td>\n",
       "    </tr>\n",
       "    <tr>\n",
       "      <th>Visibilidad [m]</th>\n",
       "      <td>-0.575334</td>\n",
       "      <td>-0.059188</td>\n",
       "      <td>-0.785852</td>\n",
       "      <td>1.000000</td>\n",
       "      <td>-0.862743</td>\n",
       "      <td>-0.461731</td>\n",
       "    </tr>\n",
       "    <tr>\n",
       "      <th>Número de gotas</th>\n",
       "      <td>0.745237</td>\n",
       "      <td>0.058995</td>\n",
       "      <td>0.725338</td>\n",
       "      <td>-0.862743</td>\n",
       "      <td>1.000000</td>\n",
       "      <td>0.632548</td>\n",
       "    </tr>\n",
       "    <tr>\n",
       "      <th>Energía Cinética [KJ]</th>\n",
       "      <td>0.976842</td>\n",
       "      <td>0.024055</td>\n",
       "      <td>0.416762</td>\n",
       "      <td>-0.461731</td>\n",
       "      <td>0.632548</td>\n",
       "      <td>1.000000</td>\n",
       "    </tr>\n",
       "  </tbody>\n",
       "</table>\n",
       "</div>"
      ],
      "text/plain": [
       "                       Intensidad [mm/h]  Acumulada [mm]  Reflectividad [dB]  \\\n",
       "Intensidad [mm/h]               1.000000        0.027909            0.505625   \n",
       "Acumulada [mm]                  0.027909        1.000000            0.049916   \n",
       "Reflectividad [dB]              0.505625        0.049916            1.000000   \n",
       "Visibilidad [m]                -0.575334       -0.059188           -0.785852   \n",
       "Número de gotas                 0.745237        0.058995            0.725338   \n",
       "Energía Cinética [KJ]           0.976842        0.024055            0.416762   \n",
       "\n",
       "                       Visibilidad [m]  Número de gotas  Energía Cinética [KJ]  \n",
       "Intensidad [mm/h]            -0.575334         0.745237               0.976842  \n",
       "Acumulada [mm]               -0.059188         0.058995               0.024055  \n",
       "Reflectividad [dB]           -0.785852         0.725338               0.416762  \n",
       "Visibilidad [m]               1.000000        -0.862743              -0.461731  \n",
       "Número de gotas              -0.862743         1.000000               0.632548  \n",
       "Energía Cinética [KJ]        -0.461731         0.632548               1.000000  "
      ]
     },
     "execution_count": 10,
     "metadata": {},
     "output_type": "execute_result"
    }
   ],
   "source": [
    "df.corr()"
   ]
  },
  {
   "cell_type": "code",
   "execution_count": 11,
   "metadata": {},
   "outputs": [
    {
     "data": {
      "text/plain": [
       "array([0.   , 0.283, 0.323, ..., 5.801, 3.772, 1.661])"
      ]
     },
     "execution_count": 11,
     "metadata": {},
     "output_type": "execute_result"
    }
   ],
   "source": [
    "df['Intensidad [mm/h]'].value_counts()\n",
    "df['Intensidad [mm/h]'].unique()"
   ]
  },
  {
   "cell_type": "code",
   "execution_count": null,
   "metadata": {},
   "outputs": [],
   "source": []
  },
  {
   "cell_type": "code",
   "execution_count": null,
   "metadata": {},
   "outputs": [],
   "source": []
  },
  {
   "cell_type": "code",
   "execution_count": null,
   "metadata": {},
   "outputs": [],
   "source": []
  },
  {
   "cell_type": "code",
   "execution_count": null,
   "metadata": {},
   "outputs": [],
   "source": []
  },
  {
   "cell_type": "code",
   "execution_count": 9,
   "metadata": {},
   "outputs": [],
   "source": [
    "# Function to merge dataframes. Because the archives are all by month \n",
    "# df = pd.concat([df, dummy_variable_1], axis=1)"
   ]
  },
  {
   "cell_type": "markdown",
   "metadata": {},
   "source": [
    "### 1.1 Evaluating missing values"
   ]
  },
  {
   "cell_type": "code",
   "execution_count": 22,
   "metadata": {},
   "outputs": [
    {
     "data": {
      "text/html": [
       "<div>\n",
       "<style scoped>\n",
       "    .dataframe tbody tr th:only-of-type {\n",
       "        vertical-align: middle;\n",
       "    }\n",
       "\n",
       "    .dataframe tbody tr th {\n",
       "        vertical-align: top;\n",
       "    }\n",
       "\n",
       "    .dataframe thead th {\n",
       "        text-align: right;\n",
       "    }\n",
       "</style>\n",
       "<table border=\"1\" class=\"dataframe\">\n",
       "  <thead>\n",
       "    <tr style=\"text-align: right;\">\n",
       "      <th></th>\n",
       "      <th>Estación</th>\n",
       "      <th>Fecha/hora</th>\n",
       "      <th>Intensidad [mm/h]</th>\n",
       "      <th>Acumulada [mm]</th>\n",
       "      <th>Reflectividad [dB]</th>\n",
       "      <th>Visibilidad [m]</th>\n",
       "      <th>Número de gotas</th>\n",
       "      <th>Energía Cinética [KJ]</th>\n",
       "    </tr>\n",
       "  </thead>\n",
       "  <tbody>\n",
       "    <tr>\n",
       "      <th>0</th>\n",
       "      <td>False</td>\n",
       "      <td>False</td>\n",
       "      <td>False</td>\n",
       "      <td>False</td>\n",
       "      <td>False</td>\n",
       "      <td>False</td>\n",
       "      <td>False</td>\n",
       "      <td>False</td>\n",
       "    </tr>\n",
       "    <tr>\n",
       "      <th>1</th>\n",
       "      <td>False</td>\n",
       "      <td>False</td>\n",
       "      <td>False</td>\n",
       "      <td>False</td>\n",
       "      <td>False</td>\n",
       "      <td>False</td>\n",
       "      <td>False</td>\n",
       "      <td>False</td>\n",
       "    </tr>\n",
       "    <tr>\n",
       "      <th>2</th>\n",
       "      <td>False</td>\n",
       "      <td>False</td>\n",
       "      <td>False</td>\n",
       "      <td>False</td>\n",
       "      <td>False</td>\n",
       "      <td>False</td>\n",
       "      <td>False</td>\n",
       "      <td>False</td>\n",
       "    </tr>\n",
       "    <tr>\n",
       "      <th>3</th>\n",
       "      <td>False</td>\n",
       "      <td>False</td>\n",
       "      <td>False</td>\n",
       "      <td>False</td>\n",
       "      <td>False</td>\n",
       "      <td>False</td>\n",
       "      <td>False</td>\n",
       "      <td>False</td>\n",
       "    </tr>\n",
       "    <tr>\n",
       "      <th>4</th>\n",
       "      <td>False</td>\n",
       "      <td>False</td>\n",
       "      <td>False</td>\n",
       "      <td>False</td>\n",
       "      <td>False</td>\n",
       "      <td>False</td>\n",
       "      <td>False</td>\n",
       "      <td>False</td>\n",
       "    </tr>\n",
       "  </tbody>\n",
       "</table>\n",
       "</div>"
      ],
      "text/plain": [
       "   Estación  Fecha/hora  Intensidad [mm/h]  Acumulada [mm]  \\\n",
       "0     False       False              False           False   \n",
       "1     False       False              False           False   \n",
       "2     False       False              False           False   \n",
       "3     False       False              False           False   \n",
       "4     False       False              False           False   \n",
       "\n",
       "   Reflectividad [dB]  Visibilidad [m]  Número de gotas  Energía Cinética [KJ]  \n",
       "0               False            False            False                  False  \n",
       "1               False            False            False                  False  \n",
       "2               False            False            False                  False  \n",
       "3               False            False            False                  False  \n",
       "4               False            False            False                  False  "
      ]
     },
     "execution_count": 22,
     "metadata": {},
     "output_type": "execute_result"
    }
   ],
   "source": [
    "missing_data = df.isnull()\n",
    "missing_data.head(5)"
   ]
  },
  {
   "cell_type": "code",
   "execution_count": 23,
   "metadata": {},
   "outputs": [
    {
     "name": "stdout",
     "output_type": "stream",
     "text": [
      "Estación\n",
      "False    44579\n",
      "Name: Estación, dtype: int64\n",
      "\n",
      "Fecha/hora\n",
      "False    44579\n",
      "Name: Fecha/hora, dtype: int64\n",
      "\n",
      "Intensidad [mm/h]\n",
      "False    44579\n",
      "Name: Intensidad [mm/h], dtype: int64\n",
      "\n",
      "Acumulada [mm]\n",
      "False    44579\n",
      "Name: Acumulada [mm], dtype: int64\n",
      "\n",
      "Reflectividad [dB]\n",
      "False    44579\n",
      "Name: Reflectividad [dB], dtype: int64\n",
      "\n",
      "Visibilidad [m]\n",
      "False    44579\n",
      "Name: Visibilidad [m], dtype: int64\n",
      "\n",
      "Número de gotas\n",
      "False    44579\n",
      "Name: Número de gotas, dtype: int64\n",
      "\n",
      "Energía Cinética [KJ]\n",
      "False    44579\n",
      "Name: Energía Cinética [KJ], dtype: int64\n",
      "\n"
     ]
    }
   ],
   "source": [
    "for column in missing_data.columns.values.tolist():\n",
    "    print(column)\n",
    "    print (missing_data[column].value_counts())\n",
    "    print(\"\")"
   ]
  },
  {
   "cell_type": "code",
   "execution_count": 24,
   "metadata": {},
   "outputs": [
    {
     "data": {
      "text/html": [
       "<div>\n",
       "<style scoped>\n",
       "    .dataframe tbody tr th:only-of-type {\n",
       "        vertical-align: middle;\n",
       "    }\n",
       "\n",
       "    .dataframe tbody tr th {\n",
       "        vertical-align: top;\n",
       "    }\n",
       "\n",
       "    .dataframe thead th {\n",
       "        text-align: right;\n",
       "    }\n",
       "</style>\n",
       "<table border=\"1\" class=\"dataframe\">\n",
       "  <thead>\n",
       "    <tr style=\"text-align: right;\">\n",
       "      <th></th>\n",
       "      <th>Estación</th>\n",
       "      <th>Fecha/hora</th>\n",
       "      <th>Intensidad [mm/h]</th>\n",
       "      <th>Acumulada [mm]</th>\n",
       "      <th>Reflectividad [dB]</th>\n",
       "      <th>Visibilidad [m]</th>\n",
       "      <th>Número de gotas</th>\n",
       "      <th>Energía Cinética [KJ]</th>\n",
       "    </tr>\n",
       "  </thead>\n",
       "  <tbody>\n",
       "    <tr>\n",
       "      <th>44574</th>\n",
       "      <td>SACMEX</td>\n",
       "      <td>2019/07/31 23:54</td>\n",
       "      <td>0.0</td>\n",
       "      <td>223.96</td>\n",
       "      <td>-9.999</td>\n",
       "      <td>20000</td>\n",
       "      <td>0</td>\n",
       "      <td>0.0</td>\n",
       "    </tr>\n",
       "    <tr>\n",
       "      <th>44575</th>\n",
       "      <td>SACMEX</td>\n",
       "      <td>2019/07/31 23:55</td>\n",
       "      <td>0.0</td>\n",
       "      <td>223.96</td>\n",
       "      <td>-9.999</td>\n",
       "      <td>20000</td>\n",
       "      <td>0</td>\n",
       "      <td>0.0</td>\n",
       "    </tr>\n",
       "    <tr>\n",
       "      <th>44576</th>\n",
       "      <td>SACMEX</td>\n",
       "      <td>2019/07/31 23:56</td>\n",
       "      <td>0.0</td>\n",
       "      <td>223.96</td>\n",
       "      <td>-9.999</td>\n",
       "      <td>20000</td>\n",
       "      <td>0</td>\n",
       "      <td>0.0</td>\n",
       "    </tr>\n",
       "    <tr>\n",
       "      <th>44577</th>\n",
       "      <td>SACMEX</td>\n",
       "      <td>2019/07/31 23:57</td>\n",
       "      <td>0.0</td>\n",
       "      <td>223.96</td>\n",
       "      <td>-9.999</td>\n",
       "      <td>19211</td>\n",
       "      <td>0</td>\n",
       "      <td>0.0</td>\n",
       "    </tr>\n",
       "    <tr>\n",
       "      <th>44578</th>\n",
       "      <td>SACMEX</td>\n",
       "      <td>2019/07/31 23:58</td>\n",
       "      <td>0.0</td>\n",
       "      <td>223.96</td>\n",
       "      <td>-9.999</td>\n",
       "      <td>19842</td>\n",
       "      <td>0</td>\n",
       "      <td>0.0</td>\n",
       "    </tr>\n",
       "  </tbody>\n",
       "</table>\n",
       "</div>"
      ],
      "text/plain": [
       "      Estación        Fecha/hora  Intensidad [mm/h]  Acumulada [mm]  \\\n",
       "44574   SACMEX  2019/07/31 23:54                0.0          223.96   \n",
       "44575   SACMEX  2019/07/31 23:55                0.0          223.96   \n",
       "44576   SACMEX  2019/07/31 23:56                0.0          223.96   \n",
       "44577   SACMEX  2019/07/31 23:57                0.0          223.96   \n",
       "44578   SACMEX  2019/07/31 23:58                0.0          223.96   \n",
       "\n",
       "       Reflectividad [dB]  Visibilidad [m]  Número de gotas  \\\n",
       "44574              -9.999            20000                0   \n",
       "44575              -9.999            20000                0   \n",
       "44576              -9.999            20000                0   \n",
       "44577              -9.999            19211                0   \n",
       "44578              -9.999            19842                0   \n",
       "\n",
       "       Energía Cinética [KJ]  \n",
       "44574                    0.0  \n",
       "44575                    0.0  \n",
       "44576                    0.0  \n",
       "44577                    0.0  \n",
       "44578                    0.0  "
      ]
     },
     "execution_count": 24,
     "metadata": {},
     "output_type": "execute_result"
    }
   ],
   "source": [
    "df.tail()"
   ]
  },
  {
   "cell_type": "markdown",
   "metadata": {},
   "source": [
    "## Bining"
   ]
  },
  {
   "cell_type": "code",
   "execution_count": 58,
   "metadata": {},
   "outputs": [
    {
     "data": {
      "text/plain": [
       "Fecha/hora\n",
       "2019-01-07/2019-01-13      62.65200\n",
       "2019-01-14/2019-01-20       0.77000\n",
       "2019-01-21/2019-01-27       0.45250\n",
       "2019-01-28/2019-02-03       0.00000\n",
       "2019-02-04/2019-02-10       0.00000\n",
       "2019-02-11/2019-02-17       3.08950\n",
       "2019-02-18/2019-02-24       0.51200\n",
       "2019-02-25/2019-03-03       0.00000\n",
       "2019-03-04/2019-03-10       0.00625\n",
       "2019-03-11/2019-03-17       0.06400\n",
       "2019-03-18/2019-03-24       0.88175\n",
       "2019-03-25/2019-03-31       0.00000\n",
       "2019-04-01/2019-04-07       8.38275\n",
       "2019-04-08/2019-04-14      18.78925\n",
       "2019-04-15/2019-04-21      11.72200\n",
       "2019-04-22/2019-04-28       1.26800\n",
       "2019-04-29/2019-05-05      13.82000\n",
       "2019-05-06/2019-05-12       2.45450\n",
       "2019-05-13/2019-05-19     525.50550\n",
       "2019-05-20/2019-05-26       0.00000\n",
       "2019-05-27/2019-06-02     167.55525\n",
       "2019-06-03/2019-06-09     721.09550\n",
       "2019-06-10/2019-06-16     168.14625\n",
       "2019-06-17/2019-06-23     689.99875\n",
       "2019-06-24/2019-06-30     176.69575\n",
       "2019-07-01/2019-07-07     449.51175\n",
       "2019-07-08/2019-07-14     683.46300\n",
       "2019-07-15/2019-07-21     561.95100\n",
       "2019-07-22/2019-07-28    1545.89150\n",
       "2019-07-29/2019-08-04     101.66200\n",
       "2019-08-05/2019-08-11     503.69000\n",
       "2019-08-12/2019-08-18     300.89200\n",
       "2019-08-19/2019-08-25      96.62325\n",
       "2019-08-26/2019-09-01      10.66100\n",
       "2019-09-02/2019-09-08      31.53275\n",
       "2019-09-09/2019-09-15     359.70875\n",
       "2019-09-16/2019-09-22     976.75225\n",
       "2019-09-23/2019-09-29     960.02225\n",
       "2019-09-30/2019-10-06      42.79500\n",
       "2019-10-07/2019-10-13     138.54000\n",
       "2019-10-14/2019-10-20     189.38200\n",
       "2019-10-21/2019-10-27     550.58125\n",
       "2019-10-28/2019-11-03     402.38225\n",
       "2019-11-04/2019-11-10     331.00475\n",
       "2019-11-11/2019-11-17       0.39300\n",
       "2019-11-18/2019-11-24       8.54225\n",
       "2019-11-25/2019-12-01       0.16075\n",
       "2019-12-02/2019-12-08       0.50525\n",
       "2019-12-09/2019-12-15       0.00950\n",
       "2019-12-16/2019-12-22       0.48475\n",
       "2019-12-23/2019-12-29       0.25250\n",
       "2019-12-30/2020-01-05       0.00000\n",
       "Freq: W-SUN, Name: Intensidad [mm/h], dtype: float64"
      ]
     },
     "execution_count": 58,
     "metadata": {},
     "output_type": "execute_result"
    }
   ],
   "source": [
    "df[\"Intensidad [mm/h]\"]=df[\"Intensidad [mm/h]\"].astype(int, copy=True) \n",
    "litros"
   ]
  },
  {
   "cell_type": "code",
   "execution_count": 59,
   "metadata": {},
   "outputs": [
    {
     "data": {
      "text/plain": [
       "Text(0.5, 1.0, 'Litros por día')"
      ]
     },
     "execution_count": 59,
     "metadata": {},
     "output_type": "execute_result"
    },
    {
     "data": {
      "image/png": "[encoded data removed]",
      "text/plain": [
       "<Figure size 432x288 with 1 Axes>"
      ]
     },
     "metadata": {
      "needs_background": "light"
     },
     "output_type": "display_data"
    }
   ],
   "source": [
    "%matplotlib inline\n",
    "import matplotlib as plt\n",
    "from matplotlib import pyplot\n",
    "plt.pyplot.hist(litros)\n",
    "\n",
    "# set x/y labels and plot title\n",
    "plt.pyplot.xlabel(\"Fecha\")\n",
    "plt.pyplot.ylabel(\"Litros\")\n",
    "plt.pyplot.title(\"Litros por día\")"
   ]
  },
  {
   "cell_type": "code",
   "execution_count": 67,
   "metadata": {},
   "outputs": [
    {
     "data": {
      "text/plain": [
       "array([  0.        ,   7.94736842,  15.89473684,  23.84210526,\n",
       "        31.78947368,  39.73684211,  47.68421053,  55.63157895,\n",
       "        63.57894737,  71.52631579,  79.47368421,  87.42105263,\n",
       "        95.36842105, 103.31578947, 111.26315789, 119.21052632,\n",
       "       127.15789474, 135.10526316, 143.05263158, 151.        ])"
      ]
     },
     "execution_count": 67,
     "metadata": {},
     "output_type": "execute_result"
    }
   ],
   "source": [
    "bins = np.linspace(min(df[\"Intensidad [mm/h]\"]), max(df[\"Intensidad [mm/h]\"]), 20)\n",
    "bins"
   ]
  },
  {
   "cell_type": "code",
   "execution_count": 61,
   "metadata": {},
   "outputs": [],
   "source": [
    "group_names = ['Low', 'Medium', 'High']"
   ]
  },
  {
   "cell_type": "code",
   "execution_count": 82,
   "metadata": {},
   "outputs": [
    {
     "ename": "ValueError",
     "evalue": "Bin labels must be one fewer than the number of bin edges",
     "output_type": "error",
     "traceback": [
      "\u001b[1;31m---------------------------------------------------------------------------\u001b[0m",
      "\u001b[1;31mValueError\u001b[0m                                Traceback (most recent call last)",
      "\u001b[1;32m<ipython-input-82-11fe981f1c4a>\u001b[0m in \u001b[0;36m<module>\u001b[1;34m\u001b[0m\n\u001b[0;32m      1\u001b[0m \u001b[1;31m#df['intensidad-binned'] = pd.cut(df['Intensidad [mm/h]'], bins, labels=group_names, include_lowest=True )\u001b[0m\u001b[1;33m\u001b[0m\u001b[1;33m\u001b[0m\u001b[1;33m\u001b[0m\u001b[0m\n\u001b[1;32m----> 2\u001b[1;33m \u001b[0mdf\u001b[0m\u001b[1;33m[\u001b[0m\u001b[1;34m'intensidad-binned'\u001b[0m\u001b[1;33m]\u001b[0m \u001b[1;33m=\u001b[0m \u001b[0mpd\u001b[0m\u001b[1;33m.\u001b[0m\u001b[0mcut\u001b[0m\u001b[1;33m(\u001b[0m\u001b[0mdf\u001b[0m\u001b[1;33m[\u001b[0m\u001b[1;34m'Intensidad [mm/h]'\u001b[0m\u001b[1;33m]\u001b[0m\u001b[1;33m,\u001b[0m \u001b[0mbins\u001b[0m\u001b[1;33m,\u001b[0m \u001b[0mlabels\u001b[0m\u001b[1;33m=\u001b[0m\u001b[0mbins\u001b[0m\u001b[1;33m-\u001b[0m\u001b[1;36m1\u001b[0m\u001b[1;33m,\u001b[0m \u001b[0minclude_lowest\u001b[0m\u001b[1;33m=\u001b[0m\u001b[1;32mTrue\u001b[0m \u001b[1;33m)\u001b[0m\u001b[1;33m\u001b[0m\u001b[1;33m\u001b[0m\u001b[0m\n\u001b[0m\u001b[0;32m      3\u001b[0m \u001b[0mdf\u001b[0m\u001b[1;33m[\u001b[0m\u001b[1;33m[\u001b[0m\u001b[1;34m'Intensidad [mm/h]'\u001b[0m\u001b[1;33m,\u001b[0m\u001b[1;34m'intensidad-binned'\u001b[0m\u001b[1;33m]\u001b[0m\u001b[1;33m]\u001b[0m\u001b[1;33m.\u001b[0m\u001b[0mhead\u001b[0m\u001b[1;33m(\u001b[0m\u001b[1;36m20\u001b[0m\u001b[1;33m)\u001b[0m\u001b[1;33m\u001b[0m\u001b[1;33m\u001b[0m\u001b[0m\n",
      "\u001b[1;32m~\\anaconda3\\lib\\site-packages\\pandas\\core\\reshape\\tile.py\u001b[0m in \u001b[0;36mcut\u001b[1;34m(x, bins, right, labels, retbins, precision, include_lowest, duplicates)\u001b[0m\n\u001b[0;32m    263\u001b[0m         \u001b[0minclude_lowest\u001b[0m\u001b[1;33m=\u001b[0m\u001b[0minclude_lowest\u001b[0m\u001b[1;33m,\u001b[0m\u001b[1;33m\u001b[0m\u001b[1;33m\u001b[0m\u001b[0m\n\u001b[0;32m    264\u001b[0m         \u001b[0mdtype\u001b[0m\u001b[1;33m=\u001b[0m\u001b[0mdtype\u001b[0m\u001b[1;33m,\u001b[0m\u001b[1;33m\u001b[0m\u001b[1;33m\u001b[0m\u001b[0m\n\u001b[1;32m--> 265\u001b[1;33m         \u001b[0mduplicates\u001b[0m\u001b[1;33m=\u001b[0m\u001b[0mduplicates\u001b[0m\u001b[1;33m,\u001b[0m\u001b[1;33m\u001b[0m\u001b[1;33m\u001b[0m\u001b[0m\n\u001b[0m\u001b[0;32m    266\u001b[0m     )\n\u001b[0;32m    267\u001b[0m \u001b[1;33m\u001b[0m\u001b[0m\n",
      "\u001b[1;32m~\\anaconda3\\lib\\site-packages\\pandas\\core\\reshape\\tile.py\u001b[0m in \u001b[0;36m_bins_to_cuts\u001b[1;34m(x, bins, right, labels, precision, include_lowest, dtype, duplicates)\u001b[0m\n\u001b[0;32m    409\u001b[0m             \u001b[1;32mif\u001b[0m \u001b[0mlen\u001b[0m\u001b[1;33m(\u001b[0m\u001b[0mlabels\u001b[0m\u001b[1;33m)\u001b[0m \u001b[1;33m!=\u001b[0m \u001b[0mlen\u001b[0m\u001b[1;33m(\u001b[0m\u001b[0mbins\u001b[0m\u001b[1;33m)\u001b[0m \u001b[1;33m-\u001b[0m \u001b[1;36m1\u001b[0m\u001b[1;33m:\u001b[0m\u001b[1;33m\u001b[0m\u001b[1;33m\u001b[0m\u001b[0m\n\u001b[0;32m    410\u001b[0m                 raise ValueError(\n\u001b[1;32m--> 411\u001b[1;33m                     \u001b[1;34m\"Bin labels must be one fewer than the number of bin edges\"\u001b[0m\u001b[1;33m\u001b[0m\u001b[1;33m\u001b[0m\u001b[0m\n\u001b[0m\u001b[0;32m    412\u001b[0m                 )\n\u001b[0;32m    413\u001b[0m \u001b[1;33m\u001b[0m\u001b[0m\n",
      "\u001b[1;31mValueError\u001b[0m: Bin labels must be one fewer than the number of bin edges"
     ]
    }
   ],
   "source": [
    "#df['intensidad-binned'] = pd.cut(df['Intensidad [mm/h]'], bins, labels=group_names, include_lowest=True )\n",
    "df['intensidad-binned'] = pd.cut(df['Intensidad [mm/h]'], bins, include_lowest=True )\n",
    "df[['Intensidad [mm/h]','intensidad-binned']].head(20)"
   ]
  },
  {
   "cell_type": "code",
   "execution_count": 70,
   "metadata": {},
   "outputs": [
    {
     "data": {
      "text/plain": [
       "(-0.001, 7.947]       430471\n",
       "(7.947, 15.895]          466\n",
       "(15.895, 23.842]         233\n",
       "(23.842, 31.789]         119\n",
       "(31.789, 39.737]          69\n",
       "(39.737, 47.684]          55\n",
       "(47.684, 55.632]          37\n",
       "(55.632, 63.579]          28\n",
       "(63.579, 71.526]          23\n",
       "(79.474, 87.421]          11\n",
       "(71.526, 79.474]           9\n",
       "(87.421, 95.368]           4\n",
       "(95.368, 103.316]          4\n",
       "(103.316, 111.263]         3\n",
       "(111.263, 119.211]         3\n",
       "(143.053, 151.0]           2\n",
       "(135.105, 143.053]         1\n",
       "(119.211, 127.158]         1\n",
       "(127.158, 135.105]         1\n",
       "Name: intensidad-binned, dtype: int64"
      ]
     },
     "execution_count": 70,
     "metadata": {},
     "output_type": "execute_result"
    }
   ],
   "source": [
    "df[\"intensidad-binned\"].value_counts()"
   ]
  },
  {
   "cell_type": "code",
   "execution_count": 74,
   "metadata": {},
   "outputs": [
    {
     "ename": "ValueError",
     "evalue": "shape mismatch: objects cannot be broadcast to a single shape",
     "output_type": "error",
     "traceback": [
      "\u001b[1;31m---------------------------------------------------------------------------\u001b[0m",
      "\u001b[1;31mValueError\u001b[0m                                Traceback (most recent call last)",
      "\u001b[1;32m<ipython-input-74-321aef379cf3>\u001b[0m in \u001b[0;36m<module>\u001b[1;34m\u001b[0m\n\u001b[0;32m      2\u001b[0m \u001b[1;32mimport\u001b[0m \u001b[0mmatplotlib\u001b[0m \u001b[1;32mas\u001b[0m \u001b[0mplt\u001b[0m\u001b[1;33m\u001b[0m\u001b[1;33m\u001b[0m\u001b[0m\n\u001b[0;32m      3\u001b[0m \u001b[1;32mfrom\u001b[0m \u001b[0mmatplotlib\u001b[0m \u001b[1;32mimport\u001b[0m \u001b[0mpyplot\u001b[0m\u001b[1;33m\u001b[0m\u001b[1;33m\u001b[0m\u001b[0m\n\u001b[1;32m----> 4\u001b[1;33m \u001b[0mpyplot\u001b[0m\u001b[1;33m.\u001b[0m\u001b[0mbar\u001b[0m\u001b[1;33m(\u001b[0m\u001b[0mbins\u001b[0m\u001b[1;33m,\u001b[0m \u001b[0mdf\u001b[0m\u001b[1;33m[\u001b[0m\u001b[1;34m\"intensidad-binned\"\u001b[0m\u001b[1;33m]\u001b[0m\u001b[1;33m.\u001b[0m\u001b[0mvalue_counts\u001b[0m\u001b[1;33m(\u001b[0m\u001b[1;33m)\u001b[0m\u001b[1;33m)\u001b[0m\u001b[1;33m\u001b[0m\u001b[1;33m\u001b[0m\u001b[0m\n\u001b[0m\u001b[0;32m      5\u001b[0m \u001b[1;33m\u001b[0m\u001b[0m\n\u001b[0;32m      6\u001b[0m \u001b[1;31m# set x/y labels and plot title\u001b[0m\u001b[1;33m\u001b[0m\u001b[1;33m\u001b[0m\u001b[1;33m\u001b[0m\u001b[0m\n",
      "\u001b[1;32m~\\anaconda3\\lib\\site-packages\\matplotlib\\pyplot.py\u001b[0m in \u001b[0;36mbar\u001b[1;34m(x, height, width, bottom, align, data, **kwargs)\u001b[0m\n\u001b[0;32m   2439\u001b[0m     return gca().bar(\n\u001b[0;32m   2440\u001b[0m         \u001b[0mx\u001b[0m\u001b[1;33m,\u001b[0m \u001b[0mheight\u001b[0m\u001b[1;33m,\u001b[0m \u001b[0mwidth\u001b[0m\u001b[1;33m=\u001b[0m\u001b[0mwidth\u001b[0m\u001b[1;33m,\u001b[0m \u001b[0mbottom\u001b[0m\u001b[1;33m=\u001b[0m\u001b[0mbottom\u001b[0m\u001b[1;33m,\u001b[0m \u001b[0malign\u001b[0m\u001b[1;33m=\u001b[0m\u001b[0malign\u001b[0m\u001b[1;33m,\u001b[0m\u001b[1;33m\u001b[0m\u001b[1;33m\u001b[0m\u001b[0m\n\u001b[1;32m-> 2441\u001b[1;33m         **({\"data\": data} if data is not None else {}), **kwargs)\n\u001b[0m\u001b[0;32m   2442\u001b[0m \u001b[1;33m\u001b[0m\u001b[0m\n\u001b[0;32m   2443\u001b[0m \u001b[1;33m\u001b[0m\u001b[0m\n",
      "\u001b[1;32m~\\anaconda3\\lib\\site-packages\\matplotlib\\__init__.py\u001b[0m in \u001b[0;36minner\u001b[1;34m(ax, data, *args, **kwargs)\u001b[0m\n\u001b[0;32m   1597\u001b[0m     \u001b[1;32mdef\u001b[0m \u001b[0minner\u001b[0m\u001b[1;33m(\u001b[0m\u001b[0max\u001b[0m\u001b[1;33m,\u001b[0m \u001b[1;33m*\u001b[0m\u001b[0margs\u001b[0m\u001b[1;33m,\u001b[0m \u001b[0mdata\u001b[0m\u001b[1;33m=\u001b[0m\u001b[1;32mNone\u001b[0m\u001b[1;33m,\u001b[0m \u001b[1;33m**\u001b[0m\u001b[0mkwargs\u001b[0m\u001b[1;33m)\u001b[0m\u001b[1;33m:\u001b[0m\u001b[1;33m\u001b[0m\u001b[1;33m\u001b[0m\u001b[0m\n\u001b[0;32m   1598\u001b[0m         \u001b[1;32mif\u001b[0m \u001b[0mdata\u001b[0m \u001b[1;32mis\u001b[0m \u001b[1;32mNone\u001b[0m\u001b[1;33m:\u001b[0m\u001b[1;33m\u001b[0m\u001b[1;33m\u001b[0m\u001b[0m\n\u001b[1;32m-> 1599\u001b[1;33m             \u001b[1;32mreturn\u001b[0m \u001b[0mfunc\u001b[0m\u001b[1;33m(\u001b[0m\u001b[0max\u001b[0m\u001b[1;33m,\u001b[0m \u001b[1;33m*\u001b[0m\u001b[0mmap\u001b[0m\u001b[1;33m(\u001b[0m\u001b[0msanitize_sequence\u001b[0m\u001b[1;33m,\u001b[0m \u001b[0margs\u001b[0m\u001b[1;33m)\u001b[0m\u001b[1;33m,\u001b[0m \u001b[1;33m**\u001b[0m\u001b[0mkwargs\u001b[0m\u001b[1;33m)\u001b[0m\u001b[1;33m\u001b[0m\u001b[1;33m\u001b[0m\u001b[0m\n\u001b[0m\u001b[0;32m   1600\u001b[0m \u001b[1;33m\u001b[0m\u001b[0m\n\u001b[0;32m   1601\u001b[0m         \u001b[0mbound\u001b[0m \u001b[1;33m=\u001b[0m \u001b[0mnew_sig\u001b[0m\u001b[1;33m.\u001b[0m\u001b[0mbind\u001b[0m\u001b[1;33m(\u001b[0m\u001b[0max\u001b[0m\u001b[1;33m,\u001b[0m \u001b[1;33m*\u001b[0m\u001b[0margs\u001b[0m\u001b[1;33m,\u001b[0m \u001b[1;33m**\u001b[0m\u001b[0mkwargs\u001b[0m\u001b[1;33m)\u001b[0m\u001b[1;33m\u001b[0m\u001b[1;33m\u001b[0m\u001b[0m\n",
      "\u001b[1;32m~\\anaconda3\\lib\\site-packages\\matplotlib\\axes\\_axes.py\u001b[0m in \u001b[0;36mbar\u001b[1;34m(self, x, height, width, bottom, align, **kwargs)\u001b[0m\n\u001b[0;32m   2372\u001b[0m         x, height, width, y, linewidth = np.broadcast_arrays(\n\u001b[0;32m   2373\u001b[0m             \u001b[1;31m# Make args iterable too.\u001b[0m\u001b[1;33m\u001b[0m\u001b[1;33m\u001b[0m\u001b[1;33m\u001b[0m\u001b[0m\n\u001b[1;32m-> 2374\u001b[1;33m             np.atleast_1d(x), height, width, y, linewidth)\n\u001b[0m\u001b[0;32m   2375\u001b[0m \u001b[1;33m\u001b[0m\u001b[0m\n\u001b[0;32m   2376\u001b[0m         \u001b[1;31m# Now that units have been converted, set the tick locations.\u001b[0m\u001b[1;33m\u001b[0m\u001b[1;33m\u001b[0m\u001b[1;33m\u001b[0m\u001b[0m\n",
      "\u001b[1;32m<__array_function__ internals>\u001b[0m in \u001b[0;36mbroadcast_arrays\u001b[1;34m(*args, **kwargs)\u001b[0m\n",
      "\u001b[1;32m~\\anaconda3\\lib\\site-packages\\numpy\\lib\\stride_tricks.py\u001b[0m in \u001b[0;36mbroadcast_arrays\u001b[1;34m(*args, **kwargs)\u001b[0m\n\u001b[0;32m    262\u001b[0m     \u001b[0margs\u001b[0m \u001b[1;33m=\u001b[0m \u001b[1;33m[\u001b[0m\u001b[0mnp\u001b[0m\u001b[1;33m.\u001b[0m\u001b[0marray\u001b[0m\u001b[1;33m(\u001b[0m\u001b[0m_m\u001b[0m\u001b[1;33m,\u001b[0m \u001b[0mcopy\u001b[0m\u001b[1;33m=\u001b[0m\u001b[1;32mFalse\u001b[0m\u001b[1;33m,\u001b[0m \u001b[0msubok\u001b[0m\u001b[1;33m=\u001b[0m\u001b[0msubok\u001b[0m\u001b[1;33m)\u001b[0m \u001b[1;32mfor\u001b[0m \u001b[0m_m\u001b[0m \u001b[1;32min\u001b[0m \u001b[0margs\u001b[0m\u001b[1;33m]\u001b[0m\u001b[1;33m\u001b[0m\u001b[1;33m\u001b[0m\u001b[0m\n\u001b[0;32m    263\u001b[0m \u001b[1;33m\u001b[0m\u001b[0m\n\u001b[1;32m--> 264\u001b[1;33m     \u001b[0mshape\u001b[0m \u001b[1;33m=\u001b[0m \u001b[0m_broadcast_shape\u001b[0m\u001b[1;33m(\u001b[0m\u001b[1;33m*\u001b[0m\u001b[0margs\u001b[0m\u001b[1;33m)\u001b[0m\u001b[1;33m\u001b[0m\u001b[1;33m\u001b[0m\u001b[0m\n\u001b[0m\u001b[0;32m    265\u001b[0m \u001b[1;33m\u001b[0m\u001b[0m\n\u001b[0;32m    266\u001b[0m     \u001b[1;32mif\u001b[0m \u001b[0mall\u001b[0m\u001b[1;33m(\u001b[0m\u001b[0marray\u001b[0m\u001b[1;33m.\u001b[0m\u001b[0mshape\u001b[0m \u001b[1;33m==\u001b[0m \u001b[0mshape\u001b[0m \u001b[1;32mfor\u001b[0m \u001b[0marray\u001b[0m \u001b[1;32min\u001b[0m \u001b[0margs\u001b[0m\u001b[1;33m)\u001b[0m\u001b[1;33m:\u001b[0m\u001b[1;33m\u001b[0m\u001b[1;33m\u001b[0m\u001b[0m\n",
      "\u001b[1;32m~\\anaconda3\\lib\\site-packages\\numpy\\lib\\stride_tricks.py\u001b[0m in \u001b[0;36m_broadcast_shape\u001b[1;34m(*args)\u001b[0m\n\u001b[0;32m    189\u001b[0m     \u001b[1;31m# use the old-iterator because np.nditer does not handle size 0 arrays\u001b[0m\u001b[1;33m\u001b[0m\u001b[1;33m\u001b[0m\u001b[1;33m\u001b[0m\u001b[0m\n\u001b[0;32m    190\u001b[0m     \u001b[1;31m# consistently\u001b[0m\u001b[1;33m\u001b[0m\u001b[1;33m\u001b[0m\u001b[1;33m\u001b[0m\u001b[0m\n\u001b[1;32m--> 191\u001b[1;33m     \u001b[0mb\u001b[0m \u001b[1;33m=\u001b[0m \u001b[0mnp\u001b[0m\u001b[1;33m.\u001b[0m\u001b[0mbroadcast\u001b[0m\u001b[1;33m(\u001b[0m\u001b[1;33m*\u001b[0m\u001b[0margs\u001b[0m\u001b[1;33m[\u001b[0m\u001b[1;33m:\u001b[0m\u001b[1;36m32\u001b[0m\u001b[1;33m]\u001b[0m\u001b[1;33m)\u001b[0m\u001b[1;33m\u001b[0m\u001b[1;33m\u001b[0m\u001b[0m\n\u001b[0m\u001b[0;32m    192\u001b[0m     \u001b[1;31m# unfortunately, it cannot handle 32 or more arguments directly\u001b[0m\u001b[1;33m\u001b[0m\u001b[1;33m\u001b[0m\u001b[1;33m\u001b[0m\u001b[0m\n\u001b[0;32m    193\u001b[0m     \u001b[1;32mfor\u001b[0m \u001b[0mpos\u001b[0m \u001b[1;32min\u001b[0m \u001b[0mrange\u001b[0m\u001b[1;33m(\u001b[0m\u001b[1;36m32\u001b[0m\u001b[1;33m,\u001b[0m \u001b[0mlen\u001b[0m\u001b[1;33m(\u001b[0m\u001b[0margs\u001b[0m\u001b[1;33m)\u001b[0m\u001b[1;33m,\u001b[0m \u001b[1;36m31\u001b[0m\u001b[1;33m)\u001b[0m\u001b[1;33m:\u001b[0m\u001b[1;33m\u001b[0m\u001b[1;33m\u001b[0m\u001b[0m\n",
      "\u001b[1;31mValueError\u001b[0m: shape mismatch: objects cannot be broadcast to a single shape"
     ]
    },
    {
     "data": {
      "image/png": "[encoded data removed]",
      "text/plain": [
       "<Figure size 432x288 with 1 Axes>"
      ]
     },
     "metadata": {
      "needs_background": "light"
     },
     "output_type": "display_data"
    }
   ],
   "source": [
    "%matplotlib inline\n",
    "import matplotlib as plt\n",
    "from matplotlib import pyplot\n",
    "pyplot.bar(group_names, df[\"intensidad-binned\"].value_counts())\n",
    "\n",
    "# set x/y labels and plot title\n",
    "plt.pyplot.xlabel(\"Intensity\")\n",
    "plt.pyplot.ylabel(\"count\")\n",
    "plt.pyplot.title(\"Intensity bins\")"
   ]
  },
  {
   "cell_type": "code",
   "execution_count": null,
   "metadata": {},
   "outputs": [],
   "source": []
  },
  {
   "cell_type": "markdown",
   "metadata": {},
   "source": [
    "# 2. Histogram"
   ]
  },
  {
   "cell_type": "code",
   "execution_count": 75,
   "metadata": {},
   "outputs": [
    {
     "name": "stdout",
     "output_type": "stream",
     "text": [
      "[430937    337    127     67     39     14      8      7      1      3]\n",
      "[  0.   15.1  30.2  45.3  60.4  75.5  90.6 105.7 120.8 135.9 151. ]\n"
     ]
    }
   ],
   "source": [
    "# np.histogram returns 2 values\n",
    "count, bin_edges = np.histogram(df['Intensidad [mm/h]'])\n",
    "\n",
    "print(count) # frequency count\n",
    "print(bin_edges) # bin ranges, default = 10 bins"
   ]
  },
  {
   "cell_type": "code",
   "execution_count": 76,
   "metadata": {},
   "outputs": [
    {
     "ename": "AttributeError",
     "evalue": "module 'matplotlib' has no attribute 'title'",
     "output_type": "error",
     "traceback": [
      "\u001b[1;31m---------------------------------------------------------------------------\u001b[0m",
      "\u001b[1;31mAttributeError\u001b[0m                            Traceback (most recent call last)",
      "\u001b[1;32m<ipython-input-76-e9e5410e87b4>\u001b[0m in \u001b[0;36m<module>\u001b[1;34m\u001b[0m\n\u001b[0;32m      1\u001b[0m \u001b[0mdf\u001b[0m\u001b[1;33m[\u001b[0m\u001b[1;34m'Intensidad [mm/h]'\u001b[0m\u001b[1;33m]\u001b[0m\u001b[1;33m.\u001b[0m\u001b[0mplot\u001b[0m\u001b[1;33m(\u001b[0m\u001b[0mkind\u001b[0m\u001b[1;33m=\u001b[0m\u001b[1;34m'hist'\u001b[0m\u001b[1;33m,\u001b[0m \u001b[0mfigsize\u001b[0m\u001b[1;33m=\u001b[0m\u001b[1;33m(\u001b[0m\u001b[1;36m8\u001b[0m\u001b[1;33m,\u001b[0m \u001b[1;36m5\u001b[0m\u001b[1;33m)\u001b[0m\u001b[1;33m)\u001b[0m\u001b[1;33m\u001b[0m\u001b[1;33m\u001b[0m\u001b[0m\n\u001b[0;32m      2\u001b[0m \u001b[1;33m\u001b[0m\u001b[0m\n\u001b[1;32m----> 3\u001b[1;33m \u001b[0mplt\u001b[0m\u001b[1;33m.\u001b[0m\u001b[0mtitle\u001b[0m\u001b[1;33m(\u001b[0m\u001b[1;34m'Histogram of rain intensity in July 2019'\u001b[0m\u001b[1;33m)\u001b[0m \u001b[1;31m# add a title to the histogram\u001b[0m\u001b[1;33m\u001b[0m\u001b[1;33m\u001b[0m\u001b[0m\n\u001b[0m\u001b[0;32m      4\u001b[0m \u001b[0mplt\u001b[0m\u001b[1;33m.\u001b[0m\u001b[0mylabel\u001b[0m\u001b[1;33m(\u001b[0m\u001b[1;34m'counts'\u001b[0m\u001b[1;33m)\u001b[0m \u001b[1;31m# add y-label\u001b[0m\u001b[1;33m\u001b[0m\u001b[1;33m\u001b[0m\u001b[0m\n\u001b[0;32m      5\u001b[0m \u001b[0mplt\u001b[0m\u001b[1;33m.\u001b[0m\u001b[0mxlabel\u001b[0m\u001b[1;33m(\u001b[0m\u001b[1;34m'Intensity [mm/h]'\u001b[0m\u001b[1;33m)\u001b[0m \u001b[1;31m# add x-label\u001b[0m\u001b[1;33m\u001b[0m\u001b[1;33m\u001b[0m\u001b[0m\n",
      "\u001b[1;31mAttributeError\u001b[0m: module 'matplotlib' has no attribute 'title'"
     ]
    },
    {
     "data": {
      "image/png": "[encoded data removed]",
      "text/plain": [
       "<Figure size 576x360 with 1 Axes>"
      ]
     },
     "metadata": {
      "needs_background": "light"
     },
     "output_type": "display_data"
    }
   ],
   "source": [
    "df['Intensidad [mm/h]'].plot(kind='hist', figsize=(8, 5))\n",
    "\n",
    "plt.title('Histogram of rain intensity in July 2019') # add a title to the histogram\n",
    "plt.ylabel('counts') # add y-label\n",
    "plt.xlabel('Intensity [mm/h]') # add x-label\n",
    "\n",
    "plt.show()"
   ]
  },
  {
   "cell_type": "markdown",
   "metadata": {},
   "source": [
    "In case the edges of the plot don't match with the edges of histogram"
   ]
  },
  {
   "cell_type": "code",
   "execution_count": 79,
   "metadata": {},
   "outputs": [
    {
     "ename": "AttributeError",
     "evalue": "module 'matplotlib' has no attribute 'title'",
     "output_type": "error",
     "traceback": [
      "\u001b[1;31m---------------------------------------------------------------------------\u001b[0m",
      "\u001b[1;31mAttributeError\u001b[0m                            Traceback (most recent call last)",
      "\u001b[1;32m<ipython-input-79-998261b67918>\u001b[0m in \u001b[0;36m<module>\u001b[1;34m\u001b[0m\n\u001b[0;32m      4\u001b[0m \u001b[0mdf\u001b[0m\u001b[1;33m[\u001b[0m\u001b[1;34m'Intensidad [mm/h]'\u001b[0m\u001b[1;33m]\u001b[0m\u001b[1;33m.\u001b[0m\u001b[0mplot\u001b[0m\u001b[1;33m(\u001b[0m\u001b[0mkind\u001b[0m\u001b[1;33m=\u001b[0m\u001b[1;34m'hist'\u001b[0m\u001b[1;33m,\u001b[0m \u001b[0mfigsize\u001b[0m\u001b[1;33m=\u001b[0m\u001b[1;33m(\u001b[0m\u001b[1;36m8\u001b[0m\u001b[1;33m,\u001b[0m \u001b[1;36m5\u001b[0m\u001b[1;33m)\u001b[0m\u001b[1;33m,\u001b[0m \u001b[0mxticks\u001b[0m\u001b[1;33m=\u001b[0m\u001b[0mbin_edges\u001b[0m\u001b[1;33m)\u001b[0m\u001b[1;33m\u001b[0m\u001b[1;33m\u001b[0m\u001b[0m\n\u001b[0;32m      5\u001b[0m \u001b[1;33m\u001b[0m\u001b[0m\n\u001b[1;32m----> 6\u001b[1;33m \u001b[0mplt\u001b[0m\u001b[1;33m.\u001b[0m\u001b[0mtitle\u001b[0m\u001b[1;33m(\u001b[0m\u001b[1;34m'Histogram of Immigration from 195 countries in 2013'\u001b[0m\u001b[1;33m)\u001b[0m \u001b[1;31m# add a title to the histogram\u001b[0m\u001b[1;33m\u001b[0m\u001b[1;33m\u001b[0m\u001b[0m\n\u001b[0m\u001b[0;32m      7\u001b[0m \u001b[0mplt\u001b[0m\u001b[1;33m.\u001b[0m\u001b[0mylabel\u001b[0m\u001b[1;33m(\u001b[0m\u001b[1;34m'Number of Countries'\u001b[0m\u001b[1;33m)\u001b[0m \u001b[1;31m# add y-label\u001b[0m\u001b[1;33m\u001b[0m\u001b[1;33m\u001b[0m\u001b[0m\n\u001b[0;32m      8\u001b[0m \u001b[0mplt\u001b[0m\u001b[1;33m.\u001b[0m\u001b[0mxlabel\u001b[0m\u001b[1;33m(\u001b[0m\u001b[1;34m'Number of Immigrants'\u001b[0m\u001b[1;33m)\u001b[0m \u001b[1;31m# add x-label\u001b[0m\u001b[1;33m\u001b[0m\u001b[1;33m\u001b[0m\u001b[0m\n",
      "\u001b[1;31mAttributeError\u001b[0m: module 'matplotlib' has no attribute 'title'"
     ]
    },
    {
     "data": {
      "image/png": "[encoded data removed]",
      "text/plain": [
       "<Figure size 576x360 with 1 Axes>"
      ]
     },
     "metadata": {
      "needs_background": "light"
     },
     "output_type": "display_data"
    }
   ],
   "source": [
    "# 'bin_edges' is a list of bin intervals\n",
    "count, bin_edges = np.histogram(df['Intensidad [mm/h]'])\n",
    "\n",
    "df['Intensidad [mm/h]'].plot(kind='hist', figsize=(8, 5), xticks=bin_edges)\n",
    "\n",
    "plt.title('Histogram of Immigration from 195 countries in 2013') # add a title to the histogram\n",
    "plt.ylabel('Number of Countries') # add y-label\n",
    "plt.xlabel('Number of Immigrants') # add x-label\n",
    "\n",
    "plt.show()"
   ]
  },
  {
   "cell_type": "markdown",
   "metadata": {},
   "source": [
    "### 3. Density-based clustering\n",
    "##### Visualization of map"
   ]
  },
  {
   "cell_type": "code",
   "execution_count": null,
   "metadata": {},
   "outputs": [],
   "source": [
    "!conda install -c anaconda basemap"
   ]
  },
  {
   "cell_type": "code",
   "execution_count": null,
   "metadata": {},
   "outputs": [],
   "source": [
    "!conda install -c conda-forge  basemap==1.3.0  matplotlib==2.2.2  -y"
   ]
  },
  {
   "cell_type": "code",
   "execution_count": 1,
   "metadata": {},
   "outputs": [
    {
     "name": "stderr",
     "output_type": "stream",
     "text": [
      "C:\\Users\\eric\\anaconda3\\lib\\site-packages\\sklearn\\utils\\deprecation.py:144: FutureWarning: The sklearn.datasets.samples_generator module is  deprecated in version 0.22 and will be removed in version 0.24. The corresponding classes / functions should instead be imported from sklearn.datasets. Anything that cannot be imported from sklearn.datasets is now part of the private API.\n",
      "  warnings.warn(message, FutureWarning)\n"
     ]
    }
   ],
   "source": [
    "from sklearn.cluster import DBSCAN \n",
    "from sklearn.datasets.samples_generator import make_blobs \n",
    "from sklearn.preprocessing import StandardScaler \n",
    "import matplotlib.pyplot as plt \n",
    "%matplotlib inline"
   ]
  },
  {
   "cell_type": "code",
   "execution_count": 2,
   "metadata": {},
   "outputs": [
    {
     "ename": "KeyError",
     "evalue": "'PROJ_LIB'",
     "output_type": "error",
     "traceback": [
      "\u001b[1;31m---------------------------------------------------------------------------\u001b[0m",
      "\u001b[1;31mKeyError\u001b[0m                                  Traceback (most recent call last)",
      "\u001b[1;32m<ipython-input-2-5642815a30fa>\u001b[0m in \u001b[0;36m<module>\u001b[1;34m\u001b[0m\n\u001b[1;32m----> 1\u001b[1;33m \u001b[1;32mfrom\u001b[0m \u001b[0mmpl_toolkits\u001b[0m\u001b[1;33m.\u001b[0m\u001b[0mbasemap\u001b[0m \u001b[1;32mimport\u001b[0m \u001b[0mBasemap\u001b[0m\u001b[1;33m\u001b[0m\u001b[1;33m\u001b[0m\u001b[0m\n\u001b[0m\u001b[0;32m      2\u001b[0m \u001b[1;32mfrom\u001b[0m \u001b[0mpylab\u001b[0m \u001b[1;32mimport\u001b[0m \u001b[0mrcParams\u001b[0m\u001b[1;33m\u001b[0m\u001b[1;33m\u001b[0m\u001b[0m\n\u001b[0;32m      3\u001b[0m \u001b[0mrcParams\u001b[0m\u001b[1;33m[\u001b[0m\u001b[1;34m'figure.figsize'\u001b[0m\u001b[1;33m]\u001b[0m \u001b[1;33m=\u001b[0m \u001b[1;33m(\u001b[0m\u001b[1;36m14\u001b[0m\u001b[1;33m,\u001b[0m\u001b[1;36m10\u001b[0m\u001b[1;33m)\u001b[0m\u001b[1;33m\u001b[0m\u001b[1;33m\u001b[0m\u001b[0m\n\u001b[0;32m      4\u001b[0m \u001b[1;33m\u001b[0m\u001b[0m\n\u001b[0;32m      5\u001b[0m \u001b[1;31m#For Mexico City\u001b[0m\u001b[1;33m\u001b[0m\u001b[1;33m\u001b[0m\u001b[1;33m\u001b[0m\u001b[0m\n",
      "\u001b[1;32m~\\anaconda3\\lib\\site-packages\\mpl_toolkits\\basemap\\__init__.py\u001b[0m in \u001b[0;36m<module>\u001b[1;34m\u001b[0m\n\u001b[0;32m    153\u001b[0m \u001b[1;33m\u001b[0m\u001b[0m\n\u001b[0;32m    154\u001b[0m \u001b[1;31m# create dictionary that maps epsg codes to Basemap kwargs.\u001b[0m\u001b[1;33m\u001b[0m\u001b[1;33m\u001b[0m\u001b[1;33m\u001b[0m\u001b[0m\n\u001b[1;32m--> 155\u001b[1;33m \u001b[0mpyproj_datadir\u001b[0m \u001b[1;33m=\u001b[0m \u001b[0mos\u001b[0m\u001b[1;33m.\u001b[0m\u001b[0menviron\u001b[0m\u001b[1;33m[\u001b[0m\u001b[1;34m'PROJ_LIB'\u001b[0m\u001b[1;33m]\u001b[0m\u001b[1;33m\u001b[0m\u001b[1;33m\u001b[0m\u001b[0m\n\u001b[0m\u001b[0;32m    156\u001b[0m \u001b[0mepsgf\u001b[0m \u001b[1;33m=\u001b[0m \u001b[0mopen\u001b[0m\u001b[1;33m(\u001b[0m\u001b[0mos\u001b[0m\u001b[1;33m.\u001b[0m\u001b[0mpath\u001b[0m\u001b[1;33m.\u001b[0m\u001b[0mjoin\u001b[0m\u001b[1;33m(\u001b[0m\u001b[0mpyproj_datadir\u001b[0m\u001b[1;33m,\u001b[0m\u001b[1;34m'epsg'\u001b[0m\u001b[1;33m)\u001b[0m\u001b[1;33m)\u001b[0m\u001b[1;33m\u001b[0m\u001b[1;33m\u001b[0m\u001b[0m\n\u001b[0;32m    157\u001b[0m \u001b[0mepsg_dict\u001b[0m\u001b[1;33m=\u001b[0m\u001b[1;33m{\u001b[0m\u001b[1;33m}\u001b[0m\u001b[1;33m\u001b[0m\u001b[1;33m\u001b[0m\u001b[0m\n",
      "\u001b[1;32m~\\anaconda3\\lib\\os.py\u001b[0m in \u001b[0;36m__getitem__\u001b[1;34m(self, key)\u001b[0m\n\u001b[0;32m    677\u001b[0m         \u001b[1;32mexcept\u001b[0m \u001b[0mKeyError\u001b[0m\u001b[1;33m:\u001b[0m\u001b[1;33m\u001b[0m\u001b[1;33m\u001b[0m\u001b[0m\n\u001b[0;32m    678\u001b[0m             \u001b[1;31m# raise KeyError with the original key value\u001b[0m\u001b[1;33m\u001b[0m\u001b[1;33m\u001b[0m\u001b[1;33m\u001b[0m\u001b[0m\n\u001b[1;32m--> 679\u001b[1;33m             \u001b[1;32mraise\u001b[0m \u001b[0mKeyError\u001b[0m\u001b[1;33m(\u001b[0m\u001b[0mkey\u001b[0m\u001b[1;33m)\u001b[0m \u001b[1;32mfrom\u001b[0m \u001b[1;32mNone\u001b[0m\u001b[1;33m\u001b[0m\u001b[1;33m\u001b[0m\u001b[0m\n\u001b[0m\u001b[0;32m    680\u001b[0m         \u001b[1;32mreturn\u001b[0m \u001b[0mself\u001b[0m\u001b[1;33m.\u001b[0m\u001b[0mdecodevalue\u001b[0m\u001b[1;33m(\u001b[0m\u001b[0mvalue\u001b[0m\u001b[1;33m)\u001b[0m\u001b[1;33m\u001b[0m\u001b[1;33m\u001b[0m\u001b[0m\n\u001b[0;32m    681\u001b[0m \u001b[1;33m\u001b[0m\u001b[0m\n",
      "\u001b[1;31mKeyError\u001b[0m: 'PROJ_LIB'"
     ]
    }
   ],
   "source": [
    "from mpl_toolkits.basemap import Basemap\n",
    "from pylab import rcParams\n",
    "rcParams['figure.figsize'] = (14,10)\n",
    "\n",
    "#For Mexico City\n",
    "llon=-102\n",
    "ulon=-98\n",
    "llat=18\n",
    "ulat=20\n",
    "\n",
    "pdf = pdf[(pdf['Long'] > llon) & (pdf['Long'] < ulon) & (pdf['Lat'] > llat) &(pdf['Lat'] < ulat)]\n",
    "\n",
    "my_map = Basemap(projection='merc',\n",
    "            resolution = 'l', area_thresh = 1000.0,\n",
    "            llcrnrlon=llon, llcrnrlat=llat, #min longitude (llcrnrlon) and latitude (llcrnrlat)\n",
    "            urcrnrlon=ulon, urcrnrlat=ulat) #max longitude (urcrnrlon) and latitude (urcrnrlat)\n",
    "\n",
    "my_map.drawcoastlines()\n",
    "my_map.drawcountries()\n",
    "# my_map.drawmapboundary()\n",
    "my_map.fillcontinents(color = 'white', alpha = 0.3)\n",
    "my_map.shadedrelief()\n",
    "\n",
    "# To collect data based on stations        \n",
    "\n",
    "xs,ys = my_map(np.asarray(pdf.Long), np.asarray(pdf.Lat))\n",
    "pdf['xm']= xs.tolist()\n",
    "pdf['ym'] =ys.tolist()\n",
    "\n",
    "#Visualization1\n",
    "for index,row in pdf.iterrows():\n",
    "#   x,y = my_map(row.Long, row.Lat)\n",
    "   my_map.plot(row.xm, row.ym,markerfacecolor =([1,0,0]),  marker='o', markersize= 5, alpha = 0.75)\n",
    "#plt.text(x,y,stn)\n",
    "plt.show()"
   ]
  },
  {
   "cell_type": "markdown",
   "metadata": {},
   "source": [
    "### Visualization of clusters based on location and precipitation with Density-based clustering"
   ]
  },
  {
   "cell_type": "code",
   "execution_count": 3,
   "metadata": {},
   "outputs": [
    {
     "ename": "NameError",
     "evalue": "name 'Basemap' is not defined",
     "output_type": "error",
     "traceback": [
      "\u001b[1;31m---------------------------------------------------------------------------\u001b[0m",
      "\u001b[1;31mNameError\u001b[0m                                 Traceback (most recent call last)",
      "\u001b[1;32m<ipython-input-3-d573af1d360f>\u001b[0m in \u001b[0;36m<module>\u001b[1;34m\u001b[0m\n\u001b[1;32m----> 1\u001b[1;33m my_map = Basemap(projection='merc',\n\u001b[0m\u001b[0;32m      2\u001b[0m             \u001b[0mresolution\u001b[0m \u001b[1;33m=\u001b[0m \u001b[1;34m'l'\u001b[0m\u001b[1;33m,\u001b[0m \u001b[0marea_thresh\u001b[0m \u001b[1;33m=\u001b[0m \u001b[1;36m1000.0\u001b[0m\u001b[1;33m,\u001b[0m\u001b[1;33m\u001b[0m\u001b[1;33m\u001b[0m\u001b[0m\n\u001b[0;32m      3\u001b[0m             \u001b[0mllcrnrlon\u001b[0m\u001b[1;33m=\u001b[0m\u001b[0mllon\u001b[0m\u001b[1;33m,\u001b[0m \u001b[0mllcrnrlat\u001b[0m\u001b[1;33m=\u001b[0m\u001b[0mllat\u001b[0m\u001b[1;33m,\u001b[0m \u001b[1;31m#min longitude (llcrnrlon) and latitude (llcrnrlat)\u001b[0m\u001b[1;33m\u001b[0m\u001b[1;33m\u001b[0m\u001b[0m\n\u001b[0;32m      4\u001b[0m             urcrnrlon=ulon, urcrnrlat=ulat) #max longitude (urcrnrlon) and latitude (urcrnrlat)\n\u001b[0;32m      5\u001b[0m \u001b[1;33m\u001b[0m\u001b[0m\n",
      "\u001b[1;31mNameError\u001b[0m: name 'Basemap' is not defined"
     ]
    }
   ],
   "source": [
    "my_map = Basemap(projection='merc',\n",
    "            resolution = 'l', area_thresh = 1000.0,\n",
    "            llcrnrlon=llon, llcrnrlat=llat, #min longitude (llcrnrlon) and latitude (llcrnrlat)\n",
    "            urcrnrlon=ulon, urcrnrlat=ulat) #max longitude (urcrnrlon) and latitude (urcrnrlat)\n",
    "\n",
    "my_map.drawcoastlines()\n",
    "my_map.drawcountries()\n",
    "#my_map.drawmapboundary()\n",
    "my_map.fillcontinents(color = 'white', alpha = 0.3)\n",
    "my_map.shadedrelief()\n",
    "\n",
    "# To create a color map\n",
    "colors = plt.get_cmap('jet')(np.linspace(0.0, 1.0, clusterNum))\n",
    "\n",
    "#Visualization1\n",
    "for clust_number in set(labels):\n",
    "    c=(([0.4,0.4,0.4]) if clust_number == -1 else colors[np.int(clust_number)])\n",
    "    clust_set = pdf[pdf.Clus_Db == clust_number]                    \n",
    "    my_map.scatter(clust_set.xm, clust_set.ym, color =c,  marker='o', s= 20, alpha = 0.85)\n",
    "    if clust_number != -1:\n",
    "        cenx=np.mean(clust_set.xm) \n",
    "        ceny=np.mean(clust_set.ym) \n",
    "        plt.text(cenx,ceny,str(clust_number), fontsize=25, color='red',)\n",
    "        print (\"Cluster \"+str(clust_number)+', Avg Temp: '+ str(np.mean(clust_set.Tm)))"
   ]
  },
  {
   "cell_type": "markdown",
   "metadata": {},
   "source": [
    "<h2 id=\"discriptive_statistics\">4. Foursquare API connection</h2>"
   ]
  },
  {
   "cell_type": "markdown",
   "metadata": {},
   "source": [
    "Define credentials"
   ]
  },
  {
   "cell_type": "code",
   "execution_count": null,
   "metadata": {},
   "outputs": [],
   "source": [
    "CLIENT_ID = 'V5MHJVTMGUZ33Q3214CZOGVES1SPHEP2PAXKTA32KPLLKSMN' # your Foursquare ID\n",
    "CLIENT_SECRET = 'BQAN0YAAB3LJ4C1QE3ZIZTK5T3DS45RNT2KBGTVQH5QDZ2MW' # your Foursquare Secret\n",
    "VERSION = '20180604'\n",
    "LIMIT = 30\n",
    "print('Your credentails:')\n",
    "print('CLIENT_ID: ' + CLIENT_ID)\n",
    "print('CLIENT_SECRET:' + CLIENT_SECRET)"
   ]
  },
  {
   "cell_type": "markdown",
   "metadata": {},
   "source": [
    "In order to define an instance of the geocoder, we need to define a user_agent. We will name our agent <em>foursquare_agent</em>, as shown below."
   ]
  },
  {
   "cell_type": "code",
   "execution_count": null,
   "metadata": {},
   "outputs": [],
   "source": [
    "address = 'Madero, Ciudad de Mexico'\n",
    "\n",
    "geolocator = Nominatim(user_agent=\"foursquare_agent\")\n",
    "location = geolocator.geocode(address)\n",
    "latitude = location.latitude\n",
    "longitude = location.longitude\n",
    "print(latitude, longitude)"
   ]
  },
  {
   "cell_type": "markdown",
   "metadata": {},
   "source": [
    "## 4.1 Search for a specific venue category\n",
    "> `https://api.foursquare.com/v2/venues/`**search**`?client_id=`**CLIENT_ID**`&client_secret=`**CLIENT_SECRET**`&ll=`**LATITUDE**`,`**LONGITUDE**`&v=`**VERSION**`&query=`**QUERY**`&radius=`**RADIUS**`&limit=`**LIMIT**"
   ]
  },
  {
   "cell_type": "code",
   "execution_count": null,
   "metadata": {},
   "outputs": [],
   "source": [
    "search_query = 'Hotel'\n",
    "radius = 500\n",
    "print(search_query + ' .... OK!')"
   ]
  },
  {
   "cell_type": "code",
   "execution_count": null,
   "metadata": {},
   "outputs": [],
   "source": [
    "url = 'https://api.foursquare.com/v2/venues/search?client_id={}&client_secret={}&ll={},{}&v={}&query={}&radius={}&limit={}'.format(CLIENT_ID, CLIENT_SECRET, latitude, longitude, VERSION, search_query, radius, LIMIT)\n",
    "url"
   ]
  },
  {
   "cell_type": "code",
   "execution_count": null,
   "metadata": {},
   "outputs": [],
   "source": [
    "results = requests.get(url).json()\n",
    "results"
   ]
  },
  {
   "cell_type": "code",
   "execution_count": null,
   "metadata": {},
   "outputs": [],
   "source": [
    "# assign relevant part of JSON to venues\n",
    "venues = results['response']['venues']\n",
    "\n",
    "# tranform venues into a dataframe\n",
    "dataframe = json_normalize(venues)\n",
    "dataframe.head()"
   ]
  },
  {
   "cell_type": "markdown",
   "metadata": {},
   "source": [
    "#### Define information of interest and filter dataframe"
   ]
  },
  {
   "cell_type": "code",
   "execution_count": null,
   "metadata": {},
   "outputs": [],
   "source": [
    "# keep only columns that include venue name, and anything that is associated with location\n",
    "filtered_columns = ['name', 'categories'] + [col for col in dataframe.columns if col.startswith('location.')] + ['id']\n",
    "dataframe_filtered = dataframe.loc[:, filtered_columns]\n",
    "\n",
    "# function that extracts the category of the venue\n",
    "def get_category_type(row):\n",
    "    try:\n",
    "        categories_list = row['categories']\n",
    "    except:\n",
    "        categories_list = row['venue.categories']\n",
    "        \n",
    "    if len(categories_list) == 0:\n",
    "        return None\n",
    "    else:\n",
    "        return categories_list[0]['name']\n",
    "\n",
    "# filter the category for each row\n",
    "dataframe_filtered['categories'] = dataframe_filtered.apply(get_category_type, axis=1)\n",
    "\n",
    "# clean column names by keeping only last term\n",
    "dataframe_filtered.columns = [column.split('.')[-1] for column in dataframe_filtered.columns]\n",
    "\n",
    "dataframe_filtered"
   ]
  },
  {
   "cell_type": "code",
   "execution_count": null,
   "metadata": {},
   "outputs": [],
   "source": [
    "dataframe_filtered.name"
   ]
  },
  {
   "cell_type": "code",
   "execution_count": null,
   "metadata": {},
   "outputs": [],
   "source": [
    "venues_map = folium.Map(location=[latitude, longitude], zoom_start=13) # generate map centred around the Conrad Hotel\n",
    "\n",
    "# add a red circle marker to represent the Conrad Hotel\n",
    "folium.features.CircleMarker(\n",
    "    [latitude, longitude],\n",
    "    radius=10,\n",
    "    color='red',\n",
    "    popup='Conrad Hotel',\n",
    "    fill = True,\n",
    "    fill_color = 'red',\n",
    "    fill_opacity = 0.6\n",
    ").add_to(venues_map)\n",
    "\n",
    "# add the Italian restaurants as blue circle markers\n",
    "for lat, lng, label in zip(dataframe_filtered.lat, dataframe_filtered.lng, dataframe_filtered.categories):\n",
    "    folium.features.CircleMarker(\n",
    "        [lat, lng],\n",
    "        radius=5,\n",
    "        color='blue',\n",
    "        popup=label,\n",
    "        fill = True,\n",
    "        fill_color='blue',\n",
    "        fill_opacity=0.6\n",
    "    ).add_to(venues_map)\n",
    "\n",
    "# display map\n",
    "venues_map"
   ]
  },
  {
   "cell_type": "markdown",
   "metadata": {},
   "source": [
    "## 4.2 Explore a location\n",
    "> `https://api.foursquare.com/v2/venues/`**explore**`?client_id=`**CLIENT_ID**`&client_secret=`**CLIENT_SECRET**`&ll=`**LATITUDE**`,`**LONGITUDE**`&v=`**VERSION**`&limit=`**LIMIT**"
   ]
  },
  {
   "cell_type": "code",
   "execution_count": null,
   "metadata": {},
   "outputs": [],
   "source": [
    "#tengo que poner las coordenadas de la ciudad de mexico o de sacmex\n",
    "latitude = 40.715337\n",
    "longitude = -74.008848"
   ]
  },
  {
   "cell_type": "code",
   "execution_count": null,
   "metadata": {},
   "outputs": [],
   "source": [
    "url = 'https://api.foursquare.com/v2/venues/explore?client_id={}&client_secret={}&ll={},{}&v={}&radius={}&limit={}'.format(CLIENT_ID, CLIENT_SECRET, latitude, longitude, VERSION, radius, LIMIT)\n",
    "url"
   ]
  },
  {
   "cell_type": "code",
   "execution_count": null,
   "metadata": {},
   "outputs": [],
   "source": [
    "import requests"
   ]
  },
  {
   "cell_type": "code",
   "execution_count": null,
   "metadata": {},
   "outputs": [],
   "source": [
    "results = requests.get(url).json()\n",
    "'There are {} around Ecco restaurant.'.format(len(results['response']['groups'][0]['items']))"
   ]
  },
  {
   "cell_type": "code",
   "execution_count": null,
   "metadata": {},
   "outputs": [],
   "source": [
    "items = results['response']['groups'][0]['items']\n",
    "items[0]"
   ]
  },
  {
   "cell_type": "code",
   "execution_count": null,
   "metadata": {},
   "outputs": [],
   "source": [
    "dataframe = json_normalize(items) # flatten JSON\n",
    "\n",
    "# filter columns\n",
    "filtered_columns = ['venue.name', 'venue.categories'] + [col for col in dataframe.columns if col.startswith('venue.location.')] + ['venue.id']\n",
    "dataframe_filtered = dataframe.loc[:, filtered_columns]\n",
    "\n",
    "# filter the category for each row\n",
    "dataframe_filtered['venue.categories'] = dataframe_filtered.apply(get_category_type, axis=1)\n",
    "\n",
    "# clean columns\n",
    "dataframe_filtered.columns = [col.split('.')[-1] for col in dataframe_filtered.columns]\n",
    "\n",
    "dataframe_filtered.head(10)"
   ]
  },
  {
   "cell_type": "code",
   "execution_count": 61,
   "metadata": {
    "button": false,
    "collapsed": false,
    "jupyter": {
     "outputs_hidden": false
    },
    "new_sheet": false,
    "run_control": {
     "read_only": false
    }
   },
   "outputs": [
    {
     "data": {
      "text/html": [
       "<div style=\"width:100%;\"><div style=\"position:relative;width:100%;height:0;padding-bottom:60%;\"><span style=\"color:#565656\">Make this Notebook Trusted to load map: File -> Trust Notebook</span><iframe src=\"about:blank\" style=\"position:absolute;width:100%;height:100%;left:0;top:0;border:none !important;\" data-html=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 onload=\"this.contentDocument.open();this.contentDocument.write(atob(this.getAttribute('data-html')));this.contentDocument.close();\" allowfullscreen webkitallowfullscreen mozallowfullscreen></iframe></div></div>"
      ],
      "text/plain": [
       "<folium.folium.Map at 0x7fcf2e4a4c18>"
      ]
     },
     "execution_count": 61,
     "metadata": {},
     "output_type": "execute_result"
    }
   ],
   "source": [
    "venues_map = folium.Map(location=[latitude, longitude], zoom_start=15) # generate map centred around Ecco\n",
    "\n",
    "\n",
    "# add Ecco as a red circle mark\n",
    "folium.features.CircleMarker(\n",
    "    [latitude, longitude],\n",
    "    radius=10,\n",
    "    popup='Ecco',\n",
    "    fill=True,\n",
    "    color='red',\n",
    "    fill_color='red',\n",
    "    fill_opacity=0.6\n",
    "    ).add_to(venues_map)\n",
    "\n",
    "\n",
    "# add popular spots to the map as blue circle markers\n",
    "for lat, lng, label in zip(dataframe_filtered.lat, dataframe_filtered.lng, dataframe_filtered.categories):\n",
    "    folium.features.CircleMarker(\n",
    "        [lat, lng],\n",
    "        radius=5,\n",
    "        popup=label,\n",
    "        fill=True,\n",
    "        color='blue',\n",
    "        fill_color='blue',\n",
    "        fill_opacity=0.6\n",
    "        ).add_to(venues_map)\n",
    "\n",
    "# display map\n",
    "venues_map"
   ]
  },
  {
   "cell_type": "markdown",
   "metadata": {},
   "source": [
    "## Define API for Datos de Mexico"
   ]
  },
  {
   "cell_type": "code",
   "execution_count": null,
   "metadata": {},
   "outputs": [],
   "source": [
    "#!/usr/bin/env python\n",
    "import urllib2\n",
    "import urllib\n",
    "import json\n",
    "import pprint\n",
    "\n",
    "# Put the details of the dataset we're going to create into a dict.\n",
    "dataset_dict = {\n",
    "    'name': 'my_dataset_name',\n",
    "    'notes': 'A long description of my dataset',\n",
    "}\n",
    "\n",
    "# Use the json module to dump the dictionary to a string for posting.\n",
    "data_string = urllib.quote(json.dumps(dataset_dict))\n",
    "\n",
    "# We'll use the package_create function to create a new dataset.\n",
    "request = urllib2.Request(\n",
    "    'http://www.my_ckan_site.com/api/action/package_create')\n",
    "\n",
    "# Creating a dataset requires an authorization header.\n",
    "# Replace *** with your API key, from your user account on the CKAN site\n",
    "# that you're creating the dataset on.\n",
    "request.add_header('Authorization', '***')\n",
    "\n",
    "# Make the HTTP request.\n",
    "response = urllib2.urlopen(request, data_string)\n",
    "assert response.code == 200\n",
    "\n",
    "# Use the json module to load CKAN's response into a dictionary.\n",
    "response_dict = json.loads(response.read())\n",
    "assert response_dict['success'] is True\n",
    "\n",
    "# package_create returns the created package as its result.\n",
    "created_package = response_dict['result']\n",
    "pprint.pprint(created_package)"
   ]
  },
  {
   "cell_type": "code",
   "execution_count": null,
   "metadata": {},
   "outputs": [],
   "source": []
  },
  {
   "cell_type": "code",
   "execution_count": null,
   "metadata": {},
   "outputs": [],
   "source": []
  }
 ],
 "metadata": {
  "kernelspec": {
   "display_name": "Python 3",
   "language": "python",
   "name": "python3"
  },
  "language_info": {
   "codemirror_mode": {
    "name": "ipython",
    "version": 3
   },
   "file_extension": ".py",
   "mimetype": "text/x-python",
   "name": "python",
   "nbconvert_exporter": "python",
   "pygments_lexer": "ipython3",
   "version": "3.7.6"
  }
 },
 "nbformat": 4,
 "nbformat_minor": 4
}
